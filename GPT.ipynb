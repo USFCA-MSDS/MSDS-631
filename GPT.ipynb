{
  "nbformat": 4,
  "nbformat_minor": 0,
  "metadata": {
    "colab": {
      "provenance": []
    },
    "kernelspec": {
      "name": "python3",
      "display_name": "Python 3"
    },
    "language_info": {
      "name": "python"
    }
  },
  "cells": [
    {
      "cell_type": "markdown",
      "source": [
        "# Code source\n",
        "\n",
        "all code in this document is credited to the following repo:\n",
        "\n",
        "https://github.com/karpathy/ng-video-lecture/blob/master/gpt.py"
      ],
      "metadata": {
        "id": "_kGf2tzI1sha"
      }
    },
    {
      "cell_type": "code",
      "execution_count": 1,
      "metadata": {
        "id": "wtHMKhBGyXDy"
      },
      "outputs": [],
      "source": [
        "import torch\n",
        "import torch.nn as nn\n",
        "from torch.nn import functional as F"
      ]
    },
    {
      "cell_type": "markdown",
      "source": [],
      "metadata": {
        "id": "wNwkPN0I1qpi"
      }
    },
    {
      "cell_type": "markdown",
      "source": [
        "Set the hyperparameters\n"
      ],
      "metadata": {
        "id": "_b6z6xXWydRa"
      }
    },
    {
      "cell_type": "code",
      "source": [
        "batch_size = 4\n",
        "block_size = 256\n",
        "max_iters = 5000\n",
        "eval_interval = 500\n",
        "learning_rate = 3e-4\n",
        "device = 'cuda' if torch.cuda.is_available() else 'cpu'\n",
        "eval_iters = 200\n",
        "n_embd = 384\n",
        "n_head = 6\n",
        "n_layer = 6\n",
        "dropout = 0.2"
      ],
      "metadata": {
        "id": "znVzeqbryX0D"
      },
      "execution_count": 26,
      "outputs": []
    },
    {
      "cell_type": "code",
      "source": [
        "# get the data\n",
        "!wget https://raw.githubusercontent.com/karpathy/char-rnn/master/data/tinyshakespeare/input.txt"
      ],
      "metadata": {
        "colab": {
          "base_uri": "https://localhost:8080/"
        },
        "id": "633fi_sS6GdX",
        "outputId": "d40ca2eb-ab0d-41c9-cf4c-73f0ac38e317"
      },
      "execution_count": 11,
      "outputs": [
        {
          "output_type": "stream",
          "name": "stdout",
          "text": [
            "--2023-06-13 08:39:08--  https://raw.githubusercontent.com/karpathy/char-rnn/master/data/tinyshakespeare/input.txt\n",
            "Resolving raw.githubusercontent.com (raw.githubusercontent.com)... 185.199.109.133, 185.199.108.133, 185.199.111.133, ...\n",
            "Connecting to raw.githubusercontent.com (raw.githubusercontent.com)|185.199.109.133|:443... connected.\n",
            "HTTP request sent, awaiting response... 200 OK\n",
            "Length: 1115394 (1.1M) [text/plain]\n",
            "Saving to: ‘input.txt.1’\n",
            "\n",
            "\rinput.txt.1           0%[                    ]       0  --.-KB/s               \rinput.txt.1         100%[===================>]   1.06M  --.-KB/s    in 0.04s   \n",
            "\n",
            "2023-06-13 08:39:08 (28.8 MB/s) - ‘input.txt.1’ saved [1115394/1115394]\n",
            "\n"
          ]
        }
      ]
    },
    {
      "cell_type": "code",
      "source": [
        "with open('input.txt', 'r', encoding='utf-8') as f:\n",
        "    text = f.read()"
      ],
      "metadata": {
        "id": "DbMJfSlpygKS"
      },
      "execution_count": 12,
      "outputs": []
    },
    {
      "cell_type": "markdown",
      "source": [
        "Lets peak into the data :"
      ],
      "metadata": {
        "id": "x7CMRVuE6Rmj"
      }
    },
    {
      "cell_type": "code",
      "source": [
        "# let's look at the first 1000 characters\n",
        "print(text[:1000])"
      ],
      "metadata": {
        "colab": {
          "base_uri": "https://localhost:8080/"
        },
        "id": "uWDB1HIm6U2h",
        "outputId": "059a3bbf-5610-4b78-ce45-a1bcf45e34bf"
      },
      "execution_count": 13,
      "outputs": [
        {
          "output_type": "stream",
          "name": "stdout",
          "text": [
            "First Citizen:\n",
            "Before we proceed any further, hear me speak.\n",
            "\n",
            "All:\n",
            "Speak, speak.\n",
            "\n",
            "First Citizen:\n",
            "You are all resolved rather to die than to famish?\n",
            "\n",
            "All:\n",
            "Resolved. resolved.\n",
            "\n",
            "First Citizen:\n",
            "First, you know Caius Marcius is chief enemy to the people.\n",
            "\n",
            "All:\n",
            "We know't, we know't.\n",
            "\n",
            "First Citizen:\n",
            "Let us kill him, and we'll have corn at our own price.\n",
            "Is't a verdict?\n",
            "\n",
            "All:\n",
            "No more talking on't; let it be done: away, away!\n",
            "\n",
            "Second Citizen:\n",
            "One word, good citizens.\n",
            "\n",
            "First Citizen:\n",
            "We are accounted poor citizens, the patricians good.\n",
            "What authority surfeits on would relieve us: if they\n",
            "would yield us but the superfluity, while it were\n",
            "wholesome, we might guess they relieved us humanely;\n",
            "but they think we are too dear: the leanness that\n",
            "afflicts us, the object of our misery, is as an\n",
            "inventory to particularise their abundance; our\n",
            "sufferance is a gain to them Let us revenge this with\n",
            "our pikes, ere we become rakes: for the gods know I\n",
            "speak this in hunger for bread, not in thirst for revenge.\n",
            "\n",
            "\n"
          ]
        }
      ]
    },
    {
      "cell_type": "markdown",
      "source": [
        "# Tokenization"
      ],
      "metadata": {
        "id": "rcpZNOLayyRq"
      }
    },
    {
      "cell_type": "code",
      "source": [
        "chars = sorted(list(set(text)))\n",
        "vocab_size = len(chars)\n",
        "stoi = {ch: i for i, ch in enumerate(chars)}\n",
        "itos = {i: ch for i, ch in enumerate(chars)}\n",
        "encode = lambda s: [stoi[c] for c in s]\n",
        "decode = lambda l: ''.join([itos[i] for i in l])"
      ],
      "metadata": {
        "id": "jl3yBxc_ypSz"
      },
      "execution_count": 14,
      "outputs": []
    },
    {
      "cell_type": "markdown",
      "source": [
        "These lines process the text data to create a vocabulary and mapping between characters and integers. chars contains all unique characters in the text, vocab_size stores the number of unique characters, stoi is a dictionary mapping characters to integers, itos is a dictionary mapping integers to characters, encode is a function that takes a string and converts it into a list of integers using the mapping, and decode is a function that takes a list of integers and converts it back into a string.\n"
      ],
      "metadata": {
        "id": "xLPbD9Vly6q6"
      }
    },
    {
      "cell_type": "code",
      "source": [
        "# Lets check all the vocab first\n",
        "print(''.join(chars))\n",
        "print(vocab_size) # in the lecture |V| = 65"
      ],
      "metadata": {
        "colab": {
          "base_uri": "https://localhost:8080/"
        },
        "id": "ZvpeB2MC6iwa",
        "outputId": "fd8a1a33-915c-412a-dac4-8eddecf2d4dc"
      },
      "execution_count": 16,
      "outputs": [
        {
          "output_type": "stream",
          "name": "stdout",
          "text": [
            "\n",
            " !$&',-.3:;?ABCDEFGHIJKLMNOPQRSTUVWXYZabcdefghijklmnopqrstuvwxyz\n",
            "65\n"
          ]
        }
      ]
    },
    {
      "cell_type": "code",
      "source": [
        "print(encode(\"hii there\")) # convert words to strings\n",
        "print(decode(encode(\"hii there\"))) # the functions are invertable"
      ],
      "metadata": {
        "colab": {
          "base_uri": "https://localhost:8080/"
        },
        "id": "IjW4DvT266nD",
        "outputId": "8a0aa202-c406-4a98-d892-fa06e5bf58db"
      },
      "execution_count": 17,
      "outputs": [
        {
          "output_type": "stream",
          "name": "stdout",
          "text": [
            "[46, 47, 47, 1, 58, 46, 43, 56, 43]\n",
            "hii there\n"
          ]
        }
      ]
    },
    {
      "cell_type": "markdown",
      "source": [
        "# Divide the data"
      ],
      "metadata": {
        "id": "D3PW9u7963VK"
      }
    },
    {
      "cell_type": "code",
      "source": [
        "data = torch.tensor(encode(text), dtype=torch.long)\n",
        "n = int(0.9 * len(data))\n",
        "train_data = data[:n]\n",
        "val_data = data[n:]"
      ],
      "metadata": {
        "id": "NxMjQCqQy0vK"
      },
      "execution_count": 19,
      "outputs": []
    },
    {
      "cell_type": "code",
      "source": [
        "block_size = 8\n",
        "print(\"consider the sequence x:\")\n",
        "print(train_data[:block_size+1])\n",
        "x = train_data[:block_size]\n",
        "y = train_data[1:block_size+1]\n",
        "\n",
        "for t in range(block_size):\n",
        "    context = x[:t+1]\n",
        "    target = y[t]\n",
        "    print(f\"when input is {context} the target: {target}\")"
      ],
      "metadata": {
        "colab": {
          "base_uri": "https://localhost:8080/"
        },
        "id": "an7c3Ur17Olq",
        "outputId": "f1384b3f-fdb1-466e-a55a-ad99f8c91069"
      },
      "execution_count": 28,
      "outputs": [
        {
          "output_type": "stream",
          "name": "stdout",
          "text": [
            "consider the sequence x:\n",
            "tensor([18, 47, 56, 57, 58,  1, 15, 47, 58])\n",
            "when input is tensor([18]) the target: 47\n",
            "when input is tensor([18, 47]) the target: 56\n",
            "when input is tensor([18, 47, 56]) the target: 57\n",
            "when input is tensor([18, 47, 56, 57]) the target: 58\n",
            "when input is tensor([18, 47, 56, 57, 58]) the target: 1\n",
            "when input is tensor([18, 47, 56, 57, 58,  1]) the target: 15\n",
            "when input is tensor([18, 47, 56, 57, 58,  1, 15]) the target: 47\n",
            "when input is tensor([18, 47, 56, 57, 58,  1, 15, 47]) the target: 58\n"
          ]
        }
      ]
    },
    {
      "cell_type": "markdown",
      "source": [
        "# Load the data and prepare it for training\n",
        "\n"
      ],
      "metadata": {
        "id": "_xzjTS2lzGCr"
      }
    },
    {
      "cell_type": "code",
      "source": [
        "def get_batch(split):\n",
        "    data = train_data if split == 'train' else val_data\n",
        "    ix = torch.randint(len(data) - block_size, (batch_size,))\n",
        "    x = torch.stack([data[i:i + block_size] for i in ix])\n",
        "    y = torch.stack([data[i + 1:i + block_size + 1] for i in ix])\n",
        "    x, y = x.to(device), y.to(device)\n",
        "    return x, y"
      ],
      "metadata": {
        "id": "Qx6TuX3HzM4B"
      },
      "execution_count": 23,
      "outputs": []
    },
    {
      "cell_type": "markdown",
      "source": [
        "The get_batch function is defined to generate a small batch of data for training or validation. It randomly selects starting indices for the batch, extracts the corresponding sequences from the data, and returns the input (x) and target (y) tensors."
      ],
      "metadata": {
        "id": "MPUhQzdhzQ91"
      }
    },
    {
      "cell_type": "code",
      "source": [
        "\n",
        "xb, yb = get_batch('train')\n",
        "print('inputs:')\n",
        "print(xb.shape)\n",
        "print(xb)\n",
        "print('targets:')\n",
        "print(yb.shape)\n",
        "print(yb)\n",
        "\n",
        "print('----')\n",
        "\n",
        "for b in range(batch_size): # batch dimension\n",
        "    for t in range(block_size): # time dimension\n",
        "        context = xb[b, :t+1]\n",
        "        target = yb[b,t]\n",
        "        print(f\"when input is {context.tolist()} the target: {target}\")"
      ],
      "metadata": {
        "colab": {
          "base_uri": "https://localhost:8080/"
        },
        "id": "8qCIZs5m717p",
        "outputId": "7fc2af1a-42b8-482e-d10c-d82ceab86b8b"
      },
      "execution_count": 29,
      "outputs": [
        {
          "output_type": "stream",
          "name": "stdout",
          "text": [
            "inputs:\n",
            "torch.Size([4, 8])\n",
            "tensor([[41, 43, 52, 57, 59, 56, 43,  1],\n",
            "        [43, 58, 46,  1, 51, 63,  1, 42],\n",
            "        [46, 47, 51, 57, 43, 50, 44, 12],\n",
            "        [52, 45,  1, 40, 53, 63,  0, 20]])\n",
            "targets:\n",
            "torch.Size([4, 8])\n",
            "tensor([[43, 52, 57, 59, 56, 43,  1, 46],\n",
            "        [58, 46,  1, 51, 63,  1, 42, 43],\n",
            "        [47, 51, 57, 43, 50, 44, 12,  0],\n",
            "        [45,  1, 40, 53, 63,  0, 20, 39]])\n",
            "----\n",
            "when input is [41] the target: 43\n",
            "when input is [41, 43] the target: 52\n",
            "when input is [41, 43, 52] the target: 57\n",
            "when input is [41, 43, 52, 57] the target: 59\n",
            "when input is [41, 43, 52, 57, 59] the target: 56\n",
            "when input is [41, 43, 52, 57, 59, 56] the target: 43\n",
            "when input is [41, 43, 52, 57, 59, 56, 43] the target: 1\n",
            "when input is [41, 43, 52, 57, 59, 56, 43, 1] the target: 46\n",
            "when input is [43] the target: 58\n",
            "when input is [43, 58] the target: 46\n",
            "when input is [43, 58, 46] the target: 1\n",
            "when input is [43, 58, 46, 1] the target: 51\n",
            "when input is [43, 58, 46, 1, 51] the target: 63\n",
            "when input is [43, 58, 46, 1, 51, 63] the target: 1\n",
            "when input is [43, 58, 46, 1, 51, 63, 1] the target: 42\n",
            "when input is [43, 58, 46, 1, 51, 63, 1, 42] the target: 43\n",
            "when input is [46] the target: 47\n",
            "when input is [46, 47] the target: 51\n",
            "when input is [46, 47, 51] the target: 57\n",
            "when input is [46, 47, 51, 57] the target: 43\n",
            "when input is [46, 47, 51, 57, 43] the target: 50\n",
            "when input is [46, 47, 51, 57, 43, 50] the target: 44\n",
            "when input is [46, 47, 51, 57, 43, 50, 44] the target: 12\n",
            "when input is [46, 47, 51, 57, 43, 50, 44, 12] the target: 0\n",
            "when input is [52] the target: 45\n",
            "when input is [52, 45] the target: 1\n",
            "when input is [52, 45, 1] the target: 40\n",
            "when input is [52, 45, 1, 40] the target: 53\n",
            "when input is [52, 45, 1, 40, 53] the target: 63\n",
            "when input is [52, 45, 1, 40, 53, 63] the target: 0\n",
            "when input is [52, 45, 1, 40, 53, 63, 0] the target: 20\n",
            "when input is [52, 45, 1, 40, 53, 63, 0, 20] the target: 39\n"
          ]
        }
      ]
    },
    {
      "cell_type": "code",
      "source": [
        "print(xb) # our input to the transformer"
      ],
      "metadata": {
        "colab": {
          "base_uri": "https://localhost:8080/"
        },
        "id": "QiSrmEKD8SBJ",
        "outputId": "c7b0a887-bbb8-4496-8931-6ac8bb7d3559"
      },
      "execution_count": 30,
      "outputs": [
        {
          "output_type": "stream",
          "name": "stdout",
          "text": [
            "tensor([[41, 43, 52, 57, 59, 56, 43,  1],\n",
            "        [43, 58, 46,  1, 51, 63,  1, 42],\n",
            "        [46, 47, 51, 57, 43, 50, 44, 12],\n",
            "        [52, 45,  1, 40, 53, 63,  0, 20]])\n"
          ]
        }
      ]
    },
    {
      "cell_type": "code",
      "source": [
        "@torch.no_grad()\n",
        "def estimate_loss():\n",
        "    \"\"\"\n",
        "    Computes the average loss on the train and validation sets using a fixed number of evaluation iterations.\n",
        "\n",
        "    Returns:\n",
        "        dict: A dictionary containing the average loss on the train and validation sets.\n",
        "              Keys: ['train', 'val']\n",
        "              Values: Float values representing the average loss.\n",
        "    \"\"\"\n",
        "    out = {}\n",
        "    model.eval()  # Set the model to evaluation mode\n",
        "\n",
        "    for split in ['train', 'val']:\n",
        "        losses = torch.zeros(eval_iters)  # Initialize a tensor to store losses for each evaluation iteration\n",
        "\n",
        "        for k in range(eval_iters):\n",
        "            X, Y = get_batch(split)  # Get a batch of input data and target sequences\n",
        "\n",
        "            # Compute logits and loss using the model\n",
        "            logits, loss = model(X, Y)\n",
        "            losses[k] = loss.item()  # Store the loss value in the tensor\n",
        "\n",
        "        out[split] = losses.mean().item()  # Calculate the average loss and store it in the output dictionary\n",
        "\n",
        "    model.train()  # Set the model back to training mode\n",
        "    return out\n"
      ],
      "metadata": {
        "id": "XObmAEPZzg67"
      },
      "execution_count": 5,
      "outputs": []
    },
    {
      "cell_type": "markdown",
      "source": [
        "# Transformers"
      ],
      "metadata": {
        "id": "1duJnCee0g26"
      }
    },
    {
      "cell_type": "code",
      "source": [
        "\n",
        "class Head(nn.Module):\n",
        "    \"\"\"One head of self-attention\"\"\"\n",
        "\n",
        "    def __init__(self, head_size):\n",
        "        \"\"\"\n",
        "        Initialize the Head module.\n",
        "\n",
        "        Args:\n",
        "            head_size (int): The size of the head.\n",
        "        \"\"\"\n",
        "        super().__init__()\n",
        "        self.key = nn.Linear(n_embd, head_size, bias=False)\n",
        "        self.query = nn.Linear(n_embd, head_size, bias=False)\n",
        "        self.value = nn.Linear(n_embd, head_size, bias=False)\n",
        "        self.register_buffer('tril', torch.tril(torch.ones(block_size, block_size)))\n",
        "        self.dropout = nn.Dropout(dropout)\n",
        "\n",
        "    def forward(self, x):\n",
        "        \"\"\"\n",
        "        Perform the forward pass of the Head module.\n",
        "\n",
        "        Args:\n",
        "            x (torch.Tensor): The input tensor of size (batch, time-step, channels).\n",
        "\n",
        "        Returns:\n",
        "            torch.Tensor: The output tensor of size (batch, time-step, head size).\n",
        "        \"\"\"\n",
        "        B, T, C = x.shape\n",
        "        k = self.key(x)   # (B, T, hs)\n",
        "        q = self.query(x) # (B, T, hs)\n",
        "        # compute attention scores (\"affinities\")\n",
        "        wei = q @ k.transpose(-2, -1) * k.shape[-1] ** -0.5  # (B, T, hs) @ (B, hs, T) -> (B, T, T)\n",
        "        wei = wei.masked_fill(self.tril[:T, :T] == 0, float('-inf'))  # (B, T, T)\n",
        "        wei = F.softmax(wei, dim=-1)  # (B, T, T)\n",
        "        wei = self.dropout(wei)\n",
        "        # perform the weighted aggregation of the values\n",
        "        v = self.value(x)  # (B, T, hs)\n",
        "        out = wei @ v  # (B, T, T) @ (B, T, hs) -> (B, T, hs)\n",
        "        return out\n",
        "\n",
        "\n",
        "class MultiHeadAttention(nn.Module):\n",
        "    \"\"\"Multiple heads of self-attention in parallel\"\"\"\n",
        "\n",
        "    def __init__(self, num_heads, head_size):\n",
        "        \"\"\"\n",
        "        Initialize the MultiHeadAttention module.\n",
        "\n",
        "        Args:\n",
        "            num_heads (int): The number of attention heads.\n",
        "            head_size (int): The size of each attention head.\n",
        "        \"\"\"\n",
        "        super().__init__()\n",
        "        self.heads = nn.ModuleList([Head(head_size) for _ in range(num_heads)])\n",
        "        self.proj = nn.Linear(head_size * num_heads, n_embd)\n",
        "        self.dropout = nn.Dropout(dropout)\n",
        "\n",
        "    def forward(self, x):\n",
        "        \"\"\"\n",
        "        Perform the forward pass of the MultiHeadAttention module.\n",
        "\n",
        "        Args:\n",
        "            x (torch.Tensor): The input tensor.\n",
        "\n",
        "        Returns:\n",
        "            torch.Tensor: The output tensor.\n",
        "        \"\"\"\n",
        "        out = torch.cat([h(x) for h in self.heads], dim=-1)\n",
        "        out = self.dropout(self.proj(out))\n",
        "        return out\n",
        "\n",
        "\n",
        "class FeedFoward(nn.Module):\n",
        "    \"\"\" a simple linear layer followed by a non-linearity \"\"\"\n",
        "\n",
        "    def __init__(self, n_embd):\n",
        "        super().__init__()\n",
        "        self.net = nn.Sequential(\n",
        "            nn.Linear(n_embd, 4 * n_embd),\n",
        "            nn.ReLU(),\n",
        "            nn.Linear(4 * n_embd, n_embd),\n",
        "            nn.Dropout(dropout),\n",
        "        )\n",
        "\n",
        "    def forward(self, x):\n",
        "        return self.net(x)\n",
        "\n",
        "class Block(nn.Module):\n",
        "    \"\"\"Transformer block: communication followed by computation\"\"\"\n",
        "\n",
        "    def __init__(self, n_embd, n_head):\n",
        "        \"\"\"\n",
        "        Initialize the Block module.\n",
        "\n",
        "        Args:\n",
        "            n_embd (int): The embedding dimension.\n",
        "            n_head (int): The number of attention heads.\n",
        "        \"\"\"\n",
        "        super().__init__()\n",
        "        head_size = n_embd // n_head\n",
        "        self.sa = MultiHeadAttention(n_head, head_size)\n",
        "        self.ffwd = FeedFoward(n_embd)\n",
        "        self.ln1 = nn.LayerNorm(n_embd)\n",
        "        self.ln2 = nn.LayerNorm(n_embd)\n",
        "\n",
        "    def forward(self, x):\n",
        "        \"\"\"\n",
        "        Perform the forward pass of the Block module.\n",
        "\n",
        "        Args:\n",
        "            x (torch.Tensor): The input tensor.\n",
        "\n",
        "        Returns:\n",
        "            torch.Tensor: The output tensor.\n",
        "        \"\"\"\n",
        "        x = x + self.sa(self.ln1(x))\n",
        "        x = x + self.ffwd(self.ln2(x))\n",
        "        return x\n",
        "\n"
      ],
      "metadata": {
        "id": "xJGbYwC8zhv6"
      },
      "execution_count": 7,
      "outputs": []
    },
    {
      "cell_type": "markdown",
      "source": [
        "# GPT MODEL"
      ],
      "metadata": {
        "id": "RN8YkRuj1bfa"
      }
    },
    {
      "cell_type": "code",
      "source": [
        "\n",
        "class GPTLanguageModel(nn.Module):\n",
        "\n",
        "    def __init__(self):\n",
        "        super().__init__()\n",
        "        # each token directly reads off the logits for the next token from a lookup table\n",
        "        self.token_embedding_table = nn.Embedding(vocab_size, n_embd)\n",
        "        self.position_embedding_table = nn.Embedding(block_size, n_embd)\n",
        "        self.blocks = nn.Sequential(*[Block(n_embd, n_head=n_head) for _ in range(n_layer)])\n",
        "        self.ln_f = nn.LayerNorm(n_embd) # final layer norm\n",
        "        self.lm_head = nn.Linear(n_embd, vocab_size)\n",
        "\n",
        "        # better init, not covered in the original GPT video, but important, will cover in followup video\n",
        "        self.apply(self._init_weights)\n",
        "\n",
        "    def _init_weights(self, module):\n",
        "        if isinstance(module, nn.Linear):\n",
        "            torch.nn.init.normal_(module.weight, mean=0.0, std=0.02)\n",
        "            if module.bias is not None:\n",
        "                torch.nn.init.zeros_(module.bias)\n",
        "        elif isinstance(module, nn.Embedding):\n",
        "            torch.nn.init.normal_(module.weight, mean=0.0, std=0.02)\n",
        "\n",
        "    def forward(self, idx, targets=None):\n",
        "        B, T = idx.shape\n",
        "\n",
        "        # idx and targets are both (B,T) tensor of integers\n",
        "        tok_emb = self.token_embedding_table(idx) # (B,T,C)\n",
        "        pos_emb = self.position_embedding_table(torch.arange(T, device=device)) # (T,C)\n",
        "        x = tok_emb + pos_emb # (B,T,C)\n",
        "        x = self.blocks(x) # (B,T,C)\n",
        "        x = self.ln_f(x) # (B,T,C)\n",
        "        logits = self.lm_head(x) # (B,T,vocab_size)\n",
        "\n",
        "        if targets is None:\n",
        "            loss = None\n",
        "        else:\n",
        "            B, T, C = logits.shape\n",
        "            logits = logits.view(B*T, C)\n",
        "            targets = targets.view(B*T)\n",
        "            loss = F.cross_entropy(logits, targets)\n",
        "\n",
        "        return logits, loss\n",
        "\n",
        "    def generate(self, idx, max_new_tokens):\n",
        "        # idx is (B, T) array of indices in the current context\n",
        "        for _ in range(max_new_tokens):\n",
        "            # crop idx to the last block_size tokens\n",
        "            idx_cond = idx[:, -block_size:]\n",
        "            # get the predictions\n",
        "            logits, loss = self(idx_cond)\n",
        "            # focus only on the last time step\n",
        "            logits = logits[:, -1, :] # becomes (B, C)\n",
        "            # apply softmax to get probabilities\n",
        "            probs = F.softmax(logits, dim=-1) # (B, C)\n",
        "            # sample from the distribution\n",
        "            idx_next = torch.multinomial(probs, num_samples=1) # (B, 1)\n",
        "            # append sampled index to the running sequence\n",
        "            idx = torch.cat((idx, idx_next), dim=1) # (B, T+1)\n",
        "        return idx"
      ],
      "metadata": {
        "id": "XCbV0vFg07IZ"
      },
      "execution_count": 8,
      "outputs": []
    },
    {
      "cell_type": "markdown",
      "source": [
        "# Train the model"
      ],
      "metadata": {
        "id": "uqnwKlIn1kZi"
      }
    },
    {
      "cell_type": "code",
      "source": [
        "\n",
        "model = GPTLanguageModel()\n",
        "m = model.to(device)\n",
        "# print the number of parameters in the model\n",
        "print(sum(p.numel() for p in m.parameters())/1e6, 'M parameters')\n",
        "\n",
        "# create a PyTorch optimizer\n",
        "optimizer = torch.optim.AdamW(model.parameters(), lr=learning_rate)\n",
        "\n",
        "for iter in range(max_iters):\n",
        "\n",
        "    # every once in a while evaluate the loss on train and val sets\n",
        "    if iter % eval_interval == 0 or iter == max_iters - 1:\n",
        "        losses = estimate_loss()\n",
        "        print(f\"step {iter}: train loss {losses['train']:.4f}, val loss {losses['val']:.4f}\")\n",
        "\n",
        "    # sample a batch of data\n",
        "    xb, yb = get_batch('train')\n",
        "\n",
        "    # evaluate the loss\n",
        "    logits, loss = model(xb, yb)\n",
        "    optimizer.zero_grad(set_to_none=True)\n",
        "    loss.backward()\n",
        "    optimizer.step()\n",
        "\n",
        "# generate from the model\n",
        "context = torch.zeros((1, 1), dtype=torch.long, device=device)\n",
        "print(decode(m.generate(context, max_new_tokens=500)[0].tolist()))"
      ],
      "metadata": {
        "id": "SSQ9yllr1eiZ"
      },
      "execution_count": null,
      "outputs": []
    },
    {
      "cell_type": "markdown",
      "source": [],
      "metadata": {
        "id": "Ow0y0zA51nvx"
      }
    },
    {
      "cell_type": "markdown",
      "source": [],
      "metadata": {
        "id": "HLON3ueA1o4i"
      }
    }
  ]
}