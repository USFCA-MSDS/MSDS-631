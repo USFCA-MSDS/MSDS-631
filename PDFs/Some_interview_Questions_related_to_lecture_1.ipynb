{
  "nbformat": 4,
  "nbformat_minor": 0,
  "metadata": {
    "colab": {
      "provenance": []
    },
    "kernelspec": {
      "name": "python3",
      "display_name": "Python 3"
    },
    "language_info": {
      "name": "python"
    }
  },
  "cells": [
    {
      "cell_type": "code",
      "execution_count": null,
      "metadata": {
        "id": "RTmpQfg1-gtA"
      },
      "outputs": [],
      "source": [
        "interview_questions = [\n",
        "    \"1. What is a neural network? Can you explain it in simple terms?\",\n",
        "    \"2. How does a perceptron learn? What happens when a perceptron updates its weights?\",\n",
        "    \"3. What are activation functions? Can you give examples of common activation functions and explain why they are important?\",\n",
        "    \"4. What is backpropagation? Why is it significant in training neural networks?\",\n",
        "    \"5. What is gradient descent? How is it used to make a neural network learn?\",\n",
        "    \"6. What is the difference between batch gradient descent, stochastic gradient descent, and mini-batch gradient descent?\",\n",
        "    \"7. Can you explain the concept of learning rate? How does it affect the training process?\",\n",
        "    \"8. Give a few challenges in training neural networks\",\n",
        "]"
      ]
    }
  ]
}