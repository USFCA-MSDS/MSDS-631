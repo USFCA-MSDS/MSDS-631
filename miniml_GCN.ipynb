{
  "nbformat": 4,
  "nbformat_minor": 0,
  "metadata": {
    "colab": {
      "provenance": []
    },
    "kernelspec": {
      "name": "python3",
      "display_name": "Python 3"
    },
    "language_info": {
      "name": "python"
    }
  },
  "cells": [
    {
      "cell_type": "code",
      "execution_count": 2,
      "metadata": {
        "colab": {
          "base_uri": "https://localhost:8080/"
        },
        "id": "CmaJDQfwjpV1",
        "outputId": "168bc190-b37c-42ca-d404-0d246c8bf518"
      },
      "outputs": [
        {
          "output_type": "stream",
          "name": "stdout",
          "text": [
            "Output shape: torch.Size([34, 2])\n"
          ]
        }
      ],
      "source": [
        "import torch\n",
        "import torch.nn as nn\n",
        "import torch.nn.functional as F\n",
        "import networkx as nx\n",
        "import numpy as np\n",
        "\n",
        "\n",
        "class GraphConvolutionLayer(nn.Module):\n",
        "    def __init__(self, input_dim, output_dim):\n",
        "        super(GraphConvolutionLayer, self).__init__()\n",
        "        self.weights = nn.Parameter(torch.FloatTensor(input_dim, output_dim))\n",
        "        self.bias = nn.Parameter(torch.FloatTensor(output_dim))\n",
        "\n",
        "    def forward(self, x, adjacency):\n",
        "        x = torch.matmul(x, self.weights)\n",
        "        x = torch.matmul(adjacency, x)\n",
        "        x = x + self.bias\n",
        "        return x\n",
        "\n",
        "\n",
        "class GraphConvolutionalNetwork(nn.Module):\n",
        "    def __init__(self, input_dim, hidden_dim, output_dim):\n",
        "        super(GraphConvolutionalNetwork, self).__init__()\n",
        "        self.gc1 = GraphConvolutionLayer(input_dim, hidden_dim)\n",
        "        self.gc2 = GraphConvolutionLayer(hidden_dim, output_dim)\n",
        "\n",
        "    def forward(self, x, adjacency):\n",
        "        x = F.relu(self.gc1(x, adjacency))\n",
        "        x = self.gc2(x, adjacency)\n",
        "        return x\n",
        "\n",
        "\n",
        "# Create a sample graph using NetworkX\n",
        "graph = nx.karate_club_graph()\n",
        "\n",
        "# Generate adjacency matrix\n",
        "adjacency = nx.adjacency_matrix(graph)\n",
        "adjacency = torch.tensor(adjacency.todense(), dtype=torch.float32)\n",
        "\n",
        "# Generate node features\n",
        "features = np.eye(graph.number_of_nodes(), dtype=np.float32)\n",
        "features = torch.tensor(features, dtype=torch.float32)\n",
        "\n",
        "# Define model parameters\n",
        "input_dim = features.shape[1]\n",
        "hidden_dim = 16\n",
        "output_dim = 2\n",
        "\n",
        "# Create GCN model\n",
        "model = GraphConvolutionalNetwork(input_dim, hidden_dim, output_dim)\n",
        "\n",
        "# Perform forward pass\n",
        "output = model(features, adjacency)\n",
        "print(\"Output shape:\", output.shape)\n"
      ]
    },
    {
      "cell_type": "code",
      "source": [],
      "metadata": {
        "id": "EhJ4cJ1fjpyZ"
      },
      "execution_count": null,
      "outputs": []
    }
  ]
}