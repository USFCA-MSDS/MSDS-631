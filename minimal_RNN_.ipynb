{
  "nbformat": 4,
  "nbformat_minor": 0,
  "metadata": {
    "colab": {
      "provenance": []
    },
    "kernelspec": {
      "name": "python3",
      "display_name": "Python 3"
    },
    "language_info": {
      "name": "python"
    }
  },
  "cells": [
    {
      "cell_type": "code",
      "execution_count": null,
      "metadata": {
        "id": "Dc-SaIXmGn_4",
        "outputId": "39c74cde-4de6-445c-d5c0-1e72d4bb3198",
        "colab": {
          "base_uri": "https://localhost:8080/"
        }
      },
      "outputs": [
        {
          "output_type": "stream",
          "name": "stdout",
          "text": [
            "Output shape: torch.Size([3, 5])\n"
          ]
        }
      ],
      "source": [
        "import torch\n",
        "import torch.nn as nn\n",
        "\n",
        "# Define the RNN model\n",
        "class RNN(nn.Module):\n",
        "    def __init__(self, input_size, hidden_size, output_size):\n",
        "        super(RNN, self).__init__()\n",
        "        self.hidden_size = hidden_size\n",
        "        self.Wxh = nn.Parameter(torch.randn(input_size, hidden_size))\n",
        "        self.Whh = nn.Parameter(torch.randn(hidden_size, hidden_size))\n",
        "        self.Why = nn.Parameter(torch.randn(hidden_size, output_size))\n",
        "        self.bh = nn.Parameter(torch.zeros(hidden_size))\n",
        "        self.by = nn.Parameter(torch.zeros(output_size))\n",
        "    \n",
        "    def forward(self, x):\n",
        "        batch_size = x.size(0)\n",
        "        hidden = torch.zeros(batch_size, self.hidden_size)\n",
        "        \n",
        "        for i in range(x.size(1)):\n",
        "            hidden = torch.tanh(torch.matmul(x[:, i, :], self.Wxh) + torch.matmul(hidden, self.Whh) + self.bh)\n",
        "        \n",
        "        output = torch.matmul(hidden, self.Why) + self.by\n",
        "        return output\n",
        "\n",
        "\n",
        "# Example usage\n",
        "if __name__ == \"__main__\":\n",
        "    input_size = 10\n",
        "    hidden_size = 20\n",
        "    output_size = 5\n",
        "    \n",
        "    # Create an instance of the RNN model\n",
        "    rnn = RNN(input_size, hidden_size, output_size)\n",
        "    \n",
        "    # Generate random input data\n",
        "    batch_size = 3\n",
        "    sequence_length = 4\n",
        "    input_data = torch.randn(batch_size, sequence_length, input_size)\n",
        "    \n",
        "    # Forward pass\n",
        "    output = rnn(input_data)\n",
        "    \n",
        "    print(\"Output shape:\", output.shape)\n"
      ]
    },
    {
      "cell_type": "code",
      "source": [],
      "metadata": {
        "id": "nc2oTxdFGoo0"
      },
      "execution_count": null,
      "outputs": []
    }
  ]
}