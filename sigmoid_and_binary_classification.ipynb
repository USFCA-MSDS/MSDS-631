{
  "nbformat": 4,
  "nbformat_minor": 0,
  "metadata": {
    "colab": {
      "provenance": []
    },
    "kernelspec": {
      "name": "python3",
      "display_name": "Python 3"
    },
    "language_info": {
      "name": "python"
    }
  },
  "cells": [
    {
      "cell_type": "code",
      "execution_count": null,
      "metadata": {
        "id": "H5_oNEVEes-4"
      },
      "outputs": [],
      "source": []
    },
    {
      "cell_type": "markdown",
      "source": [
        "# Example of output a of a neural network with output dimension =1\n",
        "\n"
      ],
      "metadata": {
        "id": "WPNPR24geuaN"
      }
    },
    {
      "cell_type": "code",
      "source": [
        "import torch\n",
        "import torch.nn as nn\n",
        "\n",
        "class Net(nn.Module):\n",
        "    def __init__(self, input_size, hidden_size):\n",
        "        super(Net, self).__init__()\n",
        "        self.fc1 = nn.Linear(input_size, hidden_size)\n",
        "        self.fc2 = nn.Linear(hidden_size, 1)\n",
        "\n",
        "    def forward(self, x):\n",
        "        x = torch.relu(self.fc1(x))\n",
        "        x = self.fc2(x)\n",
        "        return x\n",
        "\n",
        "# Define the input size and hidden size\n",
        "input_size = 2\n",
        "hidden_size = 10\n",
        "\n",
        "# Create an instance of the network\n",
        "net = Net(input_size, hidden_size)\n",
        "\n",
        "# Create sample inputs\n",
        "input_data = torch.tensor([[1.0, 2.0], [-1.0, 3.0], [0.0, 0.5],[19.0, 55],[-18, 14]])\n",
        "\n",
        "# Pass the inputs through the network\n",
        "output = net(input_data)\n",
        "\n",
        "print(output)\n"
      ],
      "metadata": {
        "colab": {
          "base_uri": "https://localhost:8080/"
        },
        "id": "xVfU2_Ype1M1",
        "outputId": "a9370de8-8a8b-4a95-fdf4-71c9fe977dbe"
      },
      "execution_count": 5,
      "outputs": [
        {
          "output_type": "stream",
          "name": "stdout",
          "text": [
            "tensor([[ 0.4379],\n",
            "        [ 0.3499],\n",
            "        [ 0.2098],\n",
            "        [ 5.8563],\n",
            "        [-2.5874]], grad_fn=<AddmmBackward0>)\n"
          ]
        }
      ]
    },
    {
      "cell_type": "code",
      "source": [
        "# Now lets constrain the output by having a sigmoid function at the end :\n",
        "\n",
        "import torch\n",
        "import torch.nn as nn\n",
        "\n",
        "class Net(nn.Module):\n",
        "    def __init__(self, input_size, hidden_size):\n",
        "        super(Net, self).__init__()\n",
        "        self.fc1 = nn.Linear(input_size, hidden_size)\n",
        "        self.fc2 = nn.Linear(hidden_size, 1)\n",
        "        self.sigmoid = nn.Sigmoid()\n",
        "\n",
        "    def forward(self, x):\n",
        "        x = torch.relu(self.fc1(x))\n",
        "        x = self.fc2(x)\n",
        "        x = self.sigmoid(x)\n",
        "        return x\n",
        "\n",
        "# Define the input size and hidden size\n",
        "input_size = 2\n",
        "hidden_size = 10\n",
        "\n",
        "# Create an instance of the network\n",
        "net = Net(input_size, hidden_size)\n",
        "\n",
        "# Create sample inputs\n",
        "input_data = torch.tensor([[1.0, 2.0], [-1.0, 3.0], [0.0, 0.5],[19.0, 55],[-18, 14]])\n",
        "\n",
        "# Pass the inputs through the network\n",
        "output = net(input_data)\n",
        "\n",
        "print(output)\n"
      ],
      "metadata": {
        "colab": {
          "base_uri": "https://localhost:8080/"
        },
        "id": "FhSlvcX_e4Cd",
        "outputId": "1d2d11fa-f221-4d04-90dd-fe988476fd4d"
      },
      "execution_count": 7,
      "outputs": [
        {
          "output_type": "stream",
          "name": "stdout",
          "text": [
            "tensor([[0.4852],\n",
            "        [0.5578],\n",
            "        [0.4294],\n",
            "        [0.9924],\n",
            "        [0.9082]], grad_fn=<SigmoidBackward0>)\n"
          ]
        }
      ]
    },
    {
      "cell_type": "code",
      "source": [
        "# Observe how the values are now between 0 and 1"
      ],
      "metadata": {
        "id": "KrkbV45Ifbuq"
      },
      "execution_count": null,
      "outputs": []
    }
  ]
}