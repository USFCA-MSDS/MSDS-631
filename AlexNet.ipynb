{
  "nbformat": 4,
  "nbformat_minor": 0,
  "metadata": {
    "colab": {
      "provenance": []
    },
    "kernelspec": {
      "name": "python3",
      "display_name": "Python 3"
    },
    "language_info": {
      "name": "python"
    }
  },
  "cells": [
    {
      "cell_type": "code",
      "execution_count": null,
      "metadata": {
        "id": "indN9P763g-E"
      },
      "outputs": [],
      "source": []
    },
    {
      "cell_type": "markdown",
      "source": [
        "# Objectives\n",
        "* train a conv net on the MNIST dataset \n",
        "* Introduce the main building blocks pooling and con layers"
      ],
      "metadata": {
        "id": "NzqGeQ3W8c0v"
      }
    },
    {
      "cell_type": "code",
      "source": [
        "import torch\n",
        "import torchvision\n",
        "\n",
        "import torch.nn as nn\n",
        "import torch.nn.functional as F\n",
        "import torch.optim as optim"
      ],
      "metadata": {
        "id": "kKDsyvmH_3Cn"
      },
      "execution_count": null,
      "outputs": []
    },
    {
      "cell_type": "markdown",
      "source": [
        "# nn.Conv2d\n",
        "\n",
        "\n",
        "* in_channels (int) – Number of channels in the input image\n",
        "\n",
        "\n",
        "* out_channels (int) – Number of channels produced by the convolution\n",
        "\n",
        "* kernel_size (int or tuple) – Size of the convolving kernel\n",
        "\n",
        "* stride (int or tuple, optional) – Stride of the convolution. Default: 1\n",
        "\n",
        "* padding (int, tuple or str, optional) – Padding added to all four sides of the input. Default: 0\n",
        "\n",
        "* padding_mode (str, optional) – 'zeros', 'reflect', 'replicate' or 'circular'. Default: 'zeros'\n",
        "\n",
        "* dilation (int or tuple, optional) – Spacing between kernel elements. Default: 1\n",
        "\n",
        "* groups (int, optional) – Number of blocked connections from input channels to output channels. Default: 1\n",
        "\n",
        "* bias (bool, optional) – If True, adds a learnable bias to the output. Default: True"
      ],
      "metadata": {
        "id": "8UvXFfVP_6V3"
      }
    },
    {
      "cell_type": "code",
      "source": [
        "# For images in Pytorch the convention to store data is always : ( #batch_size , # number_of_channels ​, #heigh_of_image ,#width_of_image) \n",
        "\n",
        "\n",
        "# lets create a random tensor that represents a dataset\n",
        "\n",
        "in_channels_ = 16\n",
        "\n",
        "\n",
        "input = torch.randn(10, in_channels_, 100, 100)\n",
        "\n",
        "# the way to read the above : we have 10 images, each one of them is a tensor of width and height = 100 and has 16 channels.\n",
        "\n",
        "\n",
        "m = nn.Conv2d(in_channels = in_channels_, out_channels=  33, kernel_size=(3,3))\n",
        "\n",
        "\n",
        "output = m(input)\n",
        "\n",
        "\n",
        "print(output.shape)\n",
        "\n",
        "# output has the same shape: there are 10 images output, each one of them is a tensor of width and height 98 and has 33 channels.\n",
        "\n",
        "\n",
        "\n",
        "\n"
      ],
      "metadata": {
        "colab": {
          "base_uri": "https://localhost:8080/"
        },
        "id": "gKYT6e_E-fC-",
        "outputId": "292c0636-f8a7-436a-df5b-c43e16d6f8ae"
      },
      "execution_count": null,
      "outputs": [
        {
          "output_type": "stream",
          "name": "stdout",
          "text": [
            "torch.Size([10, 33, 98, 98])\n"
          ]
        }
      ]
    },
    {
      "cell_type": "markdown",
      "source": [
        "Observe that the kernel size affects the size of the output: the larger the kernel size the smaller the width and height of the tensor"
      ],
      "metadata": {
        "id": "GuYaR8I8DPp5"
      }
    },
    {
      "cell_type": "code",
      "source": [
        "in_channels_ = 16\n",
        "\n",
        "input = torch.randn(10, in_channels_, 100, 100)\n",
        "\n",
        "# the way to read the above : we have 10 images, each one of them is a tensor of width and height = 100 and has 16 channels.\n",
        "\n",
        "\n",
        "m = nn.Conv2d(in_channels = in_channels_, out_channels=  33, kernel_size=(5,5)) \n",
        "\n",
        "\n",
        "output = m(input)\n",
        "\n",
        "\n",
        "print(output.shape) "
      ],
      "metadata": {
        "colab": {
          "base_uri": "https://localhost:8080/"
        },
        "id": "rj4q_g5cDWwv",
        "outputId": "ea73a9a1-0454-4379-b06c-f1354d881ee4"
      },
      "execution_count": null,
      "outputs": [
        {
          "output_type": "stream",
          "name": "stdout",
          "text": [
            "torch.Size([10, 33, 96, 96])\n"
          ]
        }
      ]
    },
    {
      "cell_type": "markdown",
      "source": [
        "Padding \"pads\" parts to the border of the image to prevent the size from being changed "
      ],
      "metadata": {
        "id": "j50dRWdrIKyR"
      }
    },
    {
      "cell_type": "code",
      "source": [
        "in_channels_ = 16\n",
        "\n",
        "input = torch.randn(10, in_channels_, 100, 100)\n",
        "\n",
        "# the way to read the above : we have 10 images, each one of them is a tensor of width and height = 100 and has 16 channels.\n",
        "\n",
        "\n",
        "m = nn.Conv2d(in_channels = in_channels_, out_channels=  33, kernel_size=(5,5),padding=2) # pad twp pixels at each side\n",
        "\n",
        "\n",
        "output = m(input)\n",
        "\n",
        "\n",
        "print(output.shape) # size is the same as input!"
      ],
      "metadata": {
        "colab": {
          "base_uri": "https://localhost:8080/"
        },
        "id": "ZmwbD8rBIV7x",
        "outputId": "df2a683d-7473-4701-bf63-ddfb8940fac6"
      },
      "execution_count": null,
      "outputs": [
        {
          "output_type": "stream",
          "name": "stdout",
          "text": [
            "torch.Size([10, 33, 100, 100])\n"
          ]
        }
      ]
    },
    {
      "cell_type": "markdown",
      "source": [
        "# Pooling\n"
      ],
      "metadata": {
        "id": "qEalek42QfBz"
      }
    },
    {
      "cell_type": "markdown",
      "source": [
        "Pooling is a technique commonly used in deep learning for down-sampling feature maps. It helps reduce the spatial dimensions of the feature maps, while retaining the most important information.\n",
        "\n",
        "In PyTorch, the Pool2d module performs 2D max pooling operation on a given input tensor. The size of the pooling kernel and stride can be specified as arguments.\n",
        "\n",
        "Here's an example of using Pool2d with a size change:"
      ],
      "metadata": {
        "id": "0GU25NpSXjv0"
      }
    },
    {
      "cell_type": "code",
      "source": [
        "import torch.nn as nn\n",
        "\n",
        "# Define a 2D convolutional neural network layer\n",
        "conv_layer = nn.Conv2d(in_channels=3, out_channels=16, kernel_size=3)\n",
        "\n",
        "# Define a 2D max pooling layer with size change\n",
        "pool_layer = nn.MaxPool2d(kernel_size=2, stride=2)\n",
        "\n",
        "# Define an example input tensor\n",
        "x = torch.randn(1, 3, 32, 32)  # batch_size=1, channels=3, height=32, width=32\n",
        "\n",
        "# Pass the input tensor through the convolutional layer\n",
        "conv_out = conv_layer(x)\n",
        "\n",
        "\n",
        "print(\"size after conv layer\",conv_out.shape )\n",
        "\n",
        "# Pass the convolutional output through the pooling layer\n",
        "pooled_out = pool_layer(conv_out)\n",
        "\n",
        "# The size of the output tensor after the pooling layer is reduced by a factor of 2 in both dimensions\n",
        "print(\"size after pooling layer\",pooled_out.size())  # Output: torch.Size([1, 16, 15, 15])"
      ],
      "metadata": {
        "colab": {
          "base_uri": "https://localhost:8080/"
        },
        "id": "QbzCfvDKXlKl",
        "outputId": "d91b95d9-0a41-46a8-af40-1bf45b023073"
      },
      "execution_count": null,
      "outputs": [
        {
          "output_type": "stream",
          "name": "stdout",
          "text": [
            "size after conv layer torch.Size([1, 16, 30, 30])\n",
            "size after pooling layer torch.Size([1, 16, 15, 15])\n"
          ]
        }
      ]
    },
    {
      "cell_type": "markdown",
      "source": [
        "In the example above, we define a convolutional layer with 3 input channels, 16 output channels, and a kernel size of 3. We then define a max pooling layer with a kernel size of 2 and stride of 2, which reduces the size of the feature maps by a factor of 2 in both dimensions. Finally, we pass an example input tensor through the convolutional layer, followed by the pooling layer, and print the size of the output tensor.\n",
        "\n",
        "# More Pooling examples\n"
      ],
      "metadata": {
        "id": "V-fgVZa1YORE"
      }
    },
    {
      "cell_type": "code",
      "source": [
        "# pool of square window\n",
        "m = nn.MaxPool2d((3, 3), stride=(1, 1),padding=1) \n",
        "input = torch.randn(1, 16, 100, 100)\n",
        "output = m(input)\n",
        "output.shape # observe the output dimension W and H have the same size"
      ],
      "metadata": {
        "colab": {
          "base_uri": "https://localhost:8080/"
        },
        "id": "QR37Ac9JQgwT",
        "outputId": "d369362c-a1ce-4d15-c74b-55648a157164"
      },
      "execution_count": null,
      "outputs": [
        {
          "output_type": "execute_result",
          "data": {
            "text/plain": [
              "torch.Size([1, 16, 100, 100])"
            ]
          },
          "metadata": {},
          "execution_count": 9
        }
      ]
    },
    {
      "cell_type": "markdown",
      "source": [
        "In this example, we are creating a 2D max pooling layer using nn.MaxPool2d() from the PyTorch nn module. The pooling layer is specified to use a square window of size (3, 3) and a stride of (1, 1). Additionally, the padding is set to 1 on both sides of the input tensor.\n",
        "\n",
        "Next, we create an example input tensor with a batch size of 1, 16 input channels, and a spatial dimension of 100 x 100.\n",
        "\n",
        "We then pass this input tensor through the pooling layer by calling m(input). The max pooling operation will compute the maximum value within each (3, 3) window of the input tensor, sliding the window over the input tensor with a stride of (1, 1). The padding of 1 on both sides ensures that the output tensor has the same spatial dimensions as the input tensor.\n",
        "\n",
        "Finally, we print the shape of the output tensor using output.shape. Since the pooling layer has reduced the spatial dimensions of the input tensor by (3-1) + 2*1 = 3 in both dimensions due to the padding, and since we are using a stride of (1, 1), the output tensor has the same spatial dimensions as the input tensor: 100 x 100. However, the number of output channels has been reduced to 16 since we are using a max pooling layer. So the output shape is (1, 16, 100, 100).\n"
      ],
      "metadata": {
        "id": "HBaof3UkYbgr"
      }
    },
    {
      "cell_type": "code",
      "source": [
        "# pool of square window\n",
        "m = nn.MaxPool2d((3, 3), stride=(2, 2),padding=1) \n",
        "input = torch.randn(1, 16, 100, 100)\n",
        "output = m(input)\n",
        "output.shape  # observe the output dimension W and H have half of the size"
      ],
      "metadata": {
        "colab": {
          "base_uri": "https://localhost:8080/"
        },
        "id": "K1DUwlbtXCx9",
        "outputId": "4bef3d1d-f8bf-4f36-c048-9fe05ebe45a9"
      },
      "execution_count": null,
      "outputs": [
        {
          "output_type": "execute_result",
          "data": {
            "text/plain": [
              "torch.Size([1, 16, 50, 50])"
            ]
          },
          "metadata": {},
          "execution_count": 10
        }
      ]
    },
    {
      "cell_type": "markdown",
      "source": [
        "# How do you compute the size\n",
        "\n",
        "The formula for computing the output size of a 2D pooling operation given an input tensor of size (N, C, H, W) and pooling window of size (kH, kW) with stride (sH, sW) and padding (pH, pW) can be given as:\n",
        "\n",
        "\n",
        "output_height = floor((H + 2*pH - kH) / sH) + 1\n",
        "output_width = floor((W + 2*pW - kW) / sW) + 1\n",
        "\n",
        "\n",
        "\n",
        "Here, floor() is the floor function that rounds down to the nearest integer. The term (H + 2*pH - kH) computes the spatial size of the output tensor after applying the pooling operation along the height dimension. Similarly, (W + 2*pW - kW) computes the spatial size of the output tensor after applying the pooling operation along the width dimension. Finally, we add 1 to the result of each division to obtain the output size.\n",
        "\n",
        "Note that if the pooling operation does not result in an integer output size, then the input size needs to be padded with additional elements to ensure that the output size is an integer. This is often done by setting the padding values (pH, pW) accordingly.\n",
        "\n",
        "It's important to keep in mind that different pooling operations may have different output sizes, even when applied to the same input tensor with the same pooling window, stride, and padding. For example, a max pooling operation only selects the maximum value within the pooling window, while an average pooling operation computes the average of all the values within the pooling window. This can lead to different output sizes for different pooling operations."
      ],
      "metadata": {
        "id": "1OG-3LERY7u8"
      }
    },
    {
      "cell_type": "markdown",
      "source": [
        "# Example of computing the size in a pooling \n",
        "\n",
        "Suppose we have an input tensor x of size (1, 3, 32, 32) and a max pooling layer with a pooling window of size (2, 2), a stride of (2, 2), and (1,1) padding. To compute the output size, we can use the formula:\n",
        "\n",
        "\n",
        "\n",
        "**output_height = floor((H +2pH - kH) / sH) + 1**\n",
        "\n",
        "**output_width = floor((W  +2pH - kW) / sW) + 1 **\n",
        "\n",
        "\n",
        "\n",
        "where H and W are the height and width of the input tensor, and kH and kW are the height and width of the pooling window. In this case, we have H = 32, W = 32, kH = 2, kW = 2, sH = 2, and sW = 2, so we can substitute these values into the formula:\n",
        "\n",
        "\n",
        "**output_height = floor((32 +2 - 2) / 2) + 1 = 17**\n",
        "\n",
        "**output_width = floor((32 +2 - 2) / 2) + 1 = 17**\n",
        "\n",
        "\n",
        "\n",
        "Therefore, the output size of the max pooling operation is (1, 3, 17, 17).\n",
        "\n",
        "## Things to do\n",
        "\n",
        "As an exercise, you could try computing the output size of a max pooling operation with a different set of parameters. For example, given an input tensor x of size (1, 3, 28, 28) and a max pooling layer with a pooling window of size (3, 3), a stride of (2, 2), and padding of (1, 1), you could try to compute the output size using the formula provided earlier. This exercise will help you better understand how the output size of a pooling operation is affected by different parameters."
      ],
      "metadata": {
        "id": "U0YTArWLZ3L-"
      }
    },
    {
      "cell_type": "code",
      "source": [
        "\n",
        "# Define an example input tensor\n",
        "x = torch.randn(1, 3, 32, 32)  # batch_size=1, channels=3, height=32, width=32\n",
        "\n",
        "\n",
        "# Define a 2D max pooling layer with size change\n",
        "pool_layer = nn.MaxPool2d(kernel_size=2, stride=2,padding=1)\n",
        "\n",
        "# Pass the convolutional output through the pooling layer\n",
        "pooled_out = pool_layer(x)\n",
        "\n",
        "print(\"size after pooling layer\",pooled_out.size())  # Output: torch.Size([1, 16, 15, 15])"
      ],
      "metadata": {
        "colab": {
          "base_uri": "https://localhost:8080/"
        },
        "id": "Rz14rG_KbIId",
        "outputId": "80bef95a-8f89-46f5-afef-b6d020669cdc"
      },
      "execution_count": null,
      "outputs": [
        {
          "output_type": "stream",
          "name": "stdout",
          "text": [
            "size after pooling layer torch.Size([1, 3, 17, 17])\n"
          ]
        }
      ]
    },
    {
      "cell_type": "markdown",
      "source": [
        "# Create a network similar to AlexNet"
      ],
      "metadata": {
        "id": "tWfV17HZ_qQX"
      }
    },
    {
      "cell_type": "code",
      "source": [
        "# load the libraries we will need :\n",
        "\n",
        "import torch\n",
        "import torch.nn as nn\n",
        "import torch.nn.functional as F\n",
        "import torch.optim as optim\n",
        "from torchvision import datasets, transforms\n",
        "from torch.autograd import Variable\n",
        "\n",
        "\n"
      ],
      "metadata": {
        "id": "tGue2KEy8yZ-"
      },
      "execution_count": null,
      "outputs": []
    },
    {
      "cell_type": "markdown",
      "source": [
        "# Load the MNIST dataset\n",
        "\n",
        "The MNIST dataset is a large database of handwritten digits used for training and testing various image processing systems. It consists of 70,000 grayscale images of size 28 x 28 pixels, each representing a handwritten digit between 0 and 9. The dataset is divided into a training set of 60,000 images and a test set of 10,000 images, which are commonly used to evaluate the performance of machine learning models for image classification tasks. The MNIST dataset has been widely used in research and has become a standard benchmark for image classification algorithms."
      ],
      "metadata": {
        "id": "1DghIhzZ77bS"
      }
    },
    {
      "cell_type": "code",
      "source": [
        "batch_size = 50\n",
        "train_loader = torch.utils.data.DataLoader(\n",
        "    datasets.MNIST('data', train=True, download=True, transform=transforms.ToTensor()),\n",
        "    batch_size=batch_size, shuffle=True)\n",
        "\n",
        "\n",
        "test_loader = torch.utils.data.DataLoader(\n",
        "    datasets.MNIST('data', train=False, transform=transforms.ToTensor()),\n",
        "    batch_size=1000)\n",
        "\n",
        "\n"
      ],
      "metadata": {
        "colab": {
          "base_uri": "https://localhost:8080/"
        },
        "id": "-C3_Gg2t4FJL",
        "outputId": "c5c001d3-9aaf-46a3-f338-09d9d6826f12"
      },
      "execution_count": null,
      "outputs": [
        {
          "output_type": "stream",
          "name": "stdout",
          "text": [
            "Downloading http://yann.lecun.com/exdb/mnist/train-images-idx3-ubyte.gz\n",
            "Downloading http://yann.lecun.com/exdb/mnist/train-images-idx3-ubyte.gz to data/MNIST/raw/train-images-idx3-ubyte.gz\n"
          ]
        },
        {
          "output_type": "stream",
          "name": "stderr",
          "text": [
            "100%|██████████| 9912422/9912422 [00:00<00:00, 92895615.14it/s]\n"
          ]
        },
        {
          "output_type": "stream",
          "name": "stdout",
          "text": [
            "Extracting data/MNIST/raw/train-images-idx3-ubyte.gz to data/MNIST/raw\n",
            "\n",
            "Downloading http://yann.lecun.com/exdb/mnist/train-labels-idx1-ubyte.gz\n",
            "Downloading http://yann.lecun.com/exdb/mnist/train-labels-idx1-ubyte.gz to data/MNIST/raw/train-labels-idx1-ubyte.gz\n"
          ]
        },
        {
          "output_type": "stream",
          "name": "stderr",
          "text": [
            "100%|██████████| 28881/28881 [00:00<00:00, 21159073.16it/s]\n"
          ]
        },
        {
          "output_type": "stream",
          "name": "stdout",
          "text": [
            "Extracting data/MNIST/raw/train-labels-idx1-ubyte.gz to data/MNIST/raw\n",
            "\n",
            "Downloading http://yann.lecun.com/exdb/mnist/t10k-images-idx3-ubyte.gz\n",
            "Downloading http://yann.lecun.com/exdb/mnist/t10k-images-idx3-ubyte.gz to data/MNIST/raw/t10k-images-idx3-ubyte.gz\n"
          ]
        },
        {
          "output_type": "stream",
          "name": "stderr",
          "text": [
            "100%|██████████| 1648877/1648877 [00:00<00:00, 26337824.84it/s]\n"
          ]
        },
        {
          "output_type": "stream",
          "name": "stdout",
          "text": [
            "Extracting data/MNIST/raw/t10k-images-idx3-ubyte.gz to data/MNIST/raw\n",
            "\n",
            "Downloading http://yann.lecun.com/exdb/mnist/t10k-labels-idx1-ubyte.gz\n",
            "Downloading http://yann.lecun.com/exdb/mnist/t10k-labels-idx1-ubyte.gz to data/MNIST/raw/t10k-labels-idx1-ubyte.gz\n"
          ]
        },
        {
          "output_type": "stream",
          "name": "stderr",
          "text": [
            "100%|██████████| 4542/4542 [00:00<00:00, 10292019.86it/s]\n"
          ]
        },
        {
          "output_type": "stream",
          "name": "stdout",
          "text": [
            "Extracting data/MNIST/raw/t10k-labels-idx1-ubyte.gz to data/MNIST/raw\n",
            "\n"
          ]
        }
      ]
    },
    {
      "cell_type": "markdown",
      "source": [],
      "metadata": {
        "id": "NcVLEiNr8Nh-"
      }
    },
    {
      "cell_type": "markdown",
      "source": [],
      "metadata": {
        "id": "CDek-Ocg7gBj"
      }
    },
    {
      "cell_type": "code",
      "source": [
        "class MnistModel(nn.Module):\n",
        "    def __init__(self):\n",
        "        super(MnistModel, self).__init__()\n",
        "        # input is 28x28\n",
        "        # padding=2 for same padding\n",
        "        self.conv1 = nn.Conv2d(1, 32, 5, padding=2)\n",
        "        # feature map size is 14*14 by pooling\n",
        "        # padding=2 for same padding\n",
        "        self.conv2 = nn.Conv2d(32, 64, 5, padding=2)\n",
        "        # feature map size is 7*7 by pooling\n",
        "        self.fc1 = nn.Linear(64*7*7, 1024)\n",
        "        self.fc2 = nn.Linear(1024, 10)\n",
        "        \n",
        "    def forward(self, x):\n",
        "        x = self.conv1(x) \n",
        "        x = F.relu(x)\n",
        "        x = F.max_pool2d(x, 2)\n",
        "\n",
        "        x = self.conv2(x)\n",
        "        x = F.relu(x)\n",
        "        x = F.max_pool2d(x, 2)\n",
        "\n",
        "        x = x.view(-1, 64*7*7)   # reshape Variable\n",
        "        x = F.relu(self.fc1(x))\n",
        "        x = F.dropout(x, training=self.training)\n",
        "        x = self.fc2(x)\n",
        "        return F.log_softmax(x)\n",
        "    \n"
      ],
      "metadata": {
        "id": "PX_a9rBX7gnK"
      },
      "execution_count": null,
      "outputs": []
    },
    {
      "cell_type": "markdown",
      "source": [
        "#Remark : \n",
        "In general the constructor of an nn.Module contains *trainable* layers which means they have parameters that will be optimized during the backprob algorithm. Observe that in the previous example we declared **nn.Conv2d** inside the init function because it has a trainable component but we did not delacare  **max_pool2d, F.relu, F.dropout** inside the same constructor.\n",
        "\n",
        "\n",
        "In a general sense, we can consider the torch.nn layers as having trainable parameters, while torch.nn.functional functions are solely functional in nature. The forward() method defines how we compute the output using the provided **layers and functions**. It is acceptable to include tensor printing within the forward pass for convenient debugging, especially when working with intricate models. It's important to note that the forward pass can utilize various elements such as member variables, the data itself, or even multiple arguments to determine the execution computation."
      ],
      "metadata": {
        "id": "wh29r2C3yej4"
      }
    },
    {
      "cell_type": "markdown",
      "source": [
        "# Prep for training\n",
        "\n",
        "With the imports in place we can go ahead and prepare the data we'll be using. But before that we'll define the hyperparameters we'll be using for the experiment. Here the number of epochs defines how many times we'll loop over the complete training dataset, while learning_rate and momentum are hyperparameters for the optimizer we'll be using later on.\n",
        "\n",
        "```\n",
        "# This is formatted as code\n",
        "```\n",
        "\n"
      ],
      "metadata": {
        "id": "3raN2klgz6dn"
      }
    },
    {
      "cell_type": "code",
      "source": [
        "n_epochs = 3\n",
        "batch_size_train = 64\n",
        "batch_size_test = 1000\n",
        "learning_rate = 0.01\n",
        "momentum = 0.5\n",
        "log_interval = 10\n",
        "\n",
        "random_seed = 1\n",
        "torch.backends.cudnn.enabled = False\n",
        "torch.manual_seed(random_seed)"
      ],
      "metadata": {
        "colab": {
          "base_uri": "https://localhost:8080/"
        },
        "id": "AXu65xxO0Aiv",
        "outputId": "9a2cf872-4fb7-4bf1-f3d8-21df98e03ef8"
      },
      "execution_count": null,
      "outputs": [
        {
          "output_type": "execute_result",
          "data": {
            "text/plain": [
              "<torch._C.Generator at 0x7f46281f4c10>"
            ]
          },
          "metadata": {},
          "execution_count": 16
        }
      ]
    },
    {
      "cell_type": "code",
      "source": [],
      "metadata": {
        "id": "cifeLGjw5Os3"
      },
      "execution_count": null,
      "outputs": []
    },
    {
      "cell_type": "markdown",
      "source": [
        "# Some terms  \n",
        "\n",
        "**Iteration**: each time you update model weights\n",
        "\n",
        "**Batch**: a subset of data used in an iteration\n",
        "\n",
        "**Epoch**: the number of iterations to look at all n\n",
        " observations (people sometimes also say a “full pass through the dataset”)\n"
      ],
      "metadata": {
        "id": "4hCHat0p5PtV"
      }
    },
    {
      "cell_type": "code",
      "source": [
        "network = MnistModel()\n",
        "optimizer = optim.SGD(network.parameters(), lr=learning_rate,\n",
        "                      momentum=momentum)"
      ],
      "metadata": {
        "id": "Bp_C4K1CzAOX"
      },
      "execution_count": null,
      "outputs": []
    },
    {
      "cell_type": "markdown",
      "source": [
        "# The training loop\n",
        "\n",
        "\n",
        "\n",
        "Let's proceed to construct our training loop. Initially, we ensure that our network is in training mode. Then, for each epoch, we iterate through all the training data. The DataLoader takes care of loading the individual batches. Firstly, we manually reset the gradients to zero using optimizer.zero_grad() because PyTorch accumulates gradients by default. Next, we obtain the output of our network (forward pass) and calculate the negative log-likelihood loss between the output and the ground truth label. By invoking the backward() function, we gather a fresh set of gradients, which we subsequently propagate back into each parameter of the network using optimizer.step(). If you're interested in gaining a more comprehensive understanding of PyTorch's automatic gradient system, I highly recommend referring to the official documentation for autograd."
      ],
      "metadata": {
        "id": "mWhsBi4I0UkQ"
      }
    },
    {
      "cell_type": "markdown",
      "source": [
        "We will monitor the progress by printing out information during the training process. To generate a smooth training curve later on, we create two lists to store the training and testing losses. For the x-axis of the curve, we aim to display the number of training examples the network has processed during training.\n",
        "\n",
        "\n",
        "\n",
        "\n"
      ],
      "metadata": {
        "id": "B4XoSd171g-N"
      }
    },
    {
      "cell_type": "code",
      "source": [
        "train_losses = []\n",
        "train_counter = []\n",
        "test_losses = []\n",
        "test_counter = [i*len(train_loader.dataset) for i in range(n_epochs + 1)]"
      ],
      "metadata": {
        "id": "hiWJGtfN0h0X"
      },
      "execution_count": null,
      "outputs": []
    },
    {
      "cell_type": "code",
      "source": [
        "\n",
        "def train(epoch):\n",
        "  network.train()  # Set the network to training mode\n",
        "  for batch_idx, (data, target) in enumerate(train_loader):  # Iterate over batches in the training data\n",
        "    optimizer.zero_grad()  # Reset gradients to zero\n",
        "    output = network(data)  # Forward pass to obtain network output\n",
        "    loss = F.nll_loss(output, target)  # Compute the negative log-likelihood loss\n",
        "    loss.backward()  # Backpropagate to calculate gradients\n",
        "    optimizer.step()  # Update network parameters using optimizer\n",
        "    if batch_idx % log_interval == 0:  # Print and log training progress at specified intervals\n",
        "      print('Train Epoch: {} [{}/{} ({:.0f}%)]\\tLoss: {:.6f}'.format(\n",
        "        epoch, batch_idx * len(data), len(train_loader.dataset),\n",
        "        100. * batch_idx / len(train_loader), loss.item()))\n",
        "      train_losses.append(loss.item())  # Log the training loss\n",
        "      train_counter.append(\n",
        "        (batch_idx*64) + ((epoch-1)*len(train_loader.dataset)))  # Log the training step count\n",
        "      "
      ],
      "metadata": {
        "id": "_hklFvsr0iD9"
      },
      "execution_count": null,
      "outputs": []
    },
    {
      "cell_type": "code",
      "source": [
        "def test():\n",
        "  network.eval()  # Set the network to evaluation mode\n",
        "  test_loss = 0\n",
        "  correct = 0\n",
        "  with torch.no_grad():\n",
        "    for data, target in test_loader:  # Iterate over batches in the test data\n",
        "      output = network(data)  # Forward pass to obtain network output\n",
        "      test_loss += F.nll_loss(output, target, size_average=False).item()  # Compute the test loss\n",
        "      pred = output.data.max(1, keepdim=True)[1]  # Get the predicted labels\n",
        "      correct += pred.eq(target.data.view_as(pred)).sum()  # Count the number of correct predictions\n",
        "  test_loss /= len(test_loader.dataset)  # Compute the average test loss\n",
        "  test_losses.append(test_loss)  # Log the test loss\n",
        "  print('\\nTest set: Avg. loss: {:.4f}, Accuracy: {}/{} ({:.0f}%)\\n'.format(\n",
        "    test_loss, correct, len(test_loader.dataset),\n",
        "    100. * correct / len(test_loader.dataset)))  # Print the average test loss and accuracy\n"
      ],
      "metadata": {
        "id": "zuWTtC8L0tf1"
      },
      "execution_count": null,
      "outputs": []
    },
    {
      "cell_type": "code",
      "source": [
        "test()\n",
        "for epoch in range(1, n_epochs + 1):\n",
        "  train(epoch)\n",
        "  test()"
      ],
      "metadata": {
        "colab": {
          "base_uri": "https://localhost:8080/"
        },
        "id": "I7_GlUsV1F-P",
        "outputId": "87dde5f2-68a3-4ace-84f1-90cb436397ef"
      },
      "execution_count": null,
      "outputs": [
        {
          "output_type": "stream",
          "name": "stderr",
          "text": [
            "<ipython-input-15-266f9f53284e>:27: UserWarning: Implicit dimension choice for log_softmax has been deprecated. Change the call to include dim=X as an argument.\n",
            "  return F.log_softmax(x)\n"
          ]
        },
        {
          "output_type": "stream",
          "name": "stdout",
          "text": [
            "\n",
            "Test set: Avg. loss: 2.3000, Accuracy: 1131/10000 (11%)\n",
            "\n",
            "Train Epoch: 1 [0/60000 (0%)]\tLoss: 2.295619\n",
            "Train Epoch: 1 [500/60000 (1%)]\tLoss: 2.285803\n",
            "Train Epoch: 1 [1000/60000 (2%)]\tLoss: 2.287543\n",
            "Train Epoch: 1 [1500/60000 (2%)]\tLoss: 2.258172\n",
            "Train Epoch: 1 [2000/60000 (3%)]\tLoss: 2.224676\n",
            "Train Epoch: 1 [2500/60000 (4%)]\tLoss: 2.202688\n",
            "Train Epoch: 1 [3000/60000 (5%)]\tLoss: 2.197871\n",
            "Train Epoch: 1 [3500/60000 (6%)]\tLoss: 2.140297\n",
            "Train Epoch: 1 [4000/60000 (7%)]\tLoss: 2.095403\n",
            "Train Epoch: 1 [4500/60000 (8%)]\tLoss: 2.005866\n",
            "Train Epoch: 1 [5000/60000 (8%)]\tLoss: 1.834223\n",
            "Train Epoch: 1 [5500/60000 (9%)]\tLoss: 1.652802\n",
            "Train Epoch: 1 [6000/60000 (10%)]\tLoss: 1.378147\n",
            "Train Epoch: 1 [6500/60000 (11%)]\tLoss: 1.124001\n",
            "Train Epoch: 1 [7000/60000 (12%)]\tLoss: 0.982802\n",
            "Train Epoch: 1 [7500/60000 (12%)]\tLoss: 0.987219\n",
            "Train Epoch: 1 [8000/60000 (13%)]\tLoss: 0.781626\n",
            "Train Epoch: 1 [8500/60000 (14%)]\tLoss: 0.729633\n",
            "Train Epoch: 1 [9000/60000 (15%)]\tLoss: 0.731051\n",
            "Train Epoch: 1 [9500/60000 (16%)]\tLoss: 0.709797\n",
            "Train Epoch: 1 [10000/60000 (17%)]\tLoss: 0.705079\n",
            "Train Epoch: 1 [10500/60000 (18%)]\tLoss: 0.540323\n",
            "Train Epoch: 1 [11000/60000 (18%)]\tLoss: 0.798053\n",
            "Train Epoch: 1 [11500/60000 (19%)]\tLoss: 0.861721\n",
            "Train Epoch: 1 [12000/60000 (20%)]\tLoss: 0.487398\n",
            "Train Epoch: 1 [12500/60000 (21%)]\tLoss: 0.409128\n",
            "Train Epoch: 1 [13000/60000 (22%)]\tLoss: 0.479242\n",
            "Train Epoch: 1 [13500/60000 (22%)]\tLoss: 0.604425\n",
            "Train Epoch: 1 [14000/60000 (23%)]\tLoss: 0.738487\n",
            "Train Epoch: 1 [14500/60000 (24%)]\tLoss: 0.323492\n",
            "Train Epoch: 1 [15000/60000 (25%)]\tLoss: 0.548333\n",
            "Train Epoch: 1 [15500/60000 (26%)]\tLoss: 0.600853\n",
            "Train Epoch: 1 [16000/60000 (27%)]\tLoss: 0.405861\n",
            "Train Epoch: 1 [16500/60000 (28%)]\tLoss: 0.712054\n",
            "Train Epoch: 1 [17000/60000 (28%)]\tLoss: 0.538748\n",
            "Train Epoch: 1 [17500/60000 (29%)]\tLoss: 0.398829\n",
            "Train Epoch: 1 [18000/60000 (30%)]\tLoss: 0.352690\n",
            "Train Epoch: 1 [18500/60000 (31%)]\tLoss: 0.364524\n",
            "Train Epoch: 1 [19000/60000 (32%)]\tLoss: 0.322529\n",
            "Train Epoch: 1 [19500/60000 (32%)]\tLoss: 0.503579\n",
            "Train Epoch: 1 [20000/60000 (33%)]\tLoss: 0.365465\n",
            "Train Epoch: 1 [20500/60000 (34%)]\tLoss: 0.339147\n",
            "Train Epoch: 1 [21000/60000 (35%)]\tLoss: 0.629723\n",
            "Train Epoch: 1 [21500/60000 (36%)]\tLoss: 0.567616\n",
            "Train Epoch: 1 [22000/60000 (37%)]\tLoss: 0.617208\n",
            "Train Epoch: 1 [22500/60000 (38%)]\tLoss: 0.517310\n",
            "Train Epoch: 1 [23000/60000 (38%)]\tLoss: 0.213992\n",
            "Train Epoch: 1 [23500/60000 (39%)]\tLoss: 0.326176\n",
            "Train Epoch: 1 [24000/60000 (40%)]\tLoss: 0.314135\n",
            "Train Epoch: 1 [24500/60000 (41%)]\tLoss: 0.256589\n",
            "Train Epoch: 1 [25000/60000 (42%)]\tLoss: 0.352030\n",
            "Train Epoch: 1 [25500/60000 (42%)]\tLoss: 0.380715\n",
            "Train Epoch: 1 [26000/60000 (43%)]\tLoss: 0.448031\n",
            "Train Epoch: 1 [26500/60000 (44%)]\tLoss: 0.101292\n",
            "Train Epoch: 1 [27000/60000 (45%)]\tLoss: 0.160490\n",
            "Train Epoch: 1 [27500/60000 (46%)]\tLoss: 0.347019\n",
            "Train Epoch: 1 [28000/60000 (47%)]\tLoss: 0.145011\n",
            "Train Epoch: 1 [28500/60000 (48%)]\tLoss: 0.138248\n",
            "Train Epoch: 1 [29000/60000 (48%)]\tLoss: 0.290421\n",
            "Train Epoch: 1 [29500/60000 (49%)]\tLoss: 0.570659\n",
            "Train Epoch: 1 [30000/60000 (50%)]\tLoss: 0.273108\n",
            "Train Epoch: 1 [30500/60000 (51%)]\tLoss: 0.178293\n",
            "Train Epoch: 1 [31000/60000 (52%)]\tLoss: 0.480969\n",
            "Train Epoch: 1 [31500/60000 (52%)]\tLoss: 0.174653\n",
            "Train Epoch: 1 [32000/60000 (53%)]\tLoss: 0.377201\n",
            "Train Epoch: 1 [32500/60000 (54%)]\tLoss: 0.185968\n",
            "Train Epoch: 1 [33000/60000 (55%)]\tLoss: 0.211389\n",
            "Train Epoch: 1 [33500/60000 (56%)]\tLoss: 0.253154\n",
            "Train Epoch: 1 [34000/60000 (57%)]\tLoss: 0.233316\n",
            "Train Epoch: 1 [34500/60000 (58%)]\tLoss: 0.365480\n",
            "Train Epoch: 1 [35000/60000 (58%)]\tLoss: 0.248501\n",
            "Train Epoch: 1 [35500/60000 (59%)]\tLoss: 0.128509\n",
            "Train Epoch: 1 [36000/60000 (60%)]\tLoss: 0.138663\n",
            "Train Epoch: 1 [36500/60000 (61%)]\tLoss: 0.201584\n",
            "Train Epoch: 1 [37000/60000 (62%)]\tLoss: 0.290483\n",
            "Train Epoch: 1 [37500/60000 (62%)]\tLoss: 0.268822\n",
            "Train Epoch: 1 [38000/60000 (63%)]\tLoss: 0.132368\n",
            "Train Epoch: 1 [38500/60000 (64%)]\tLoss: 0.261780\n",
            "Train Epoch: 1 [39000/60000 (65%)]\tLoss: 0.412637\n",
            "Train Epoch: 1 [39500/60000 (66%)]\tLoss: 0.287882\n",
            "Train Epoch: 1 [40000/60000 (67%)]\tLoss: 0.417344\n",
            "Train Epoch: 1 [40500/60000 (68%)]\tLoss: 0.286707\n",
            "Train Epoch: 1 [41000/60000 (68%)]\tLoss: 0.235869\n",
            "Train Epoch: 1 [41500/60000 (69%)]\tLoss: 0.316359\n",
            "Train Epoch: 1 [42000/60000 (70%)]\tLoss: 0.223910\n",
            "Train Epoch: 1 [42500/60000 (71%)]\tLoss: 0.289269\n",
            "Train Epoch: 1 [43000/60000 (72%)]\tLoss: 0.071768\n",
            "Train Epoch: 1 [43500/60000 (72%)]\tLoss: 0.178606\n",
            "Train Epoch: 1 [44000/60000 (73%)]\tLoss: 0.249363\n",
            "Train Epoch: 1 [44500/60000 (74%)]\tLoss: 0.316863\n",
            "Train Epoch: 1 [45000/60000 (75%)]\tLoss: 0.214005\n",
            "Train Epoch: 1 [45500/60000 (76%)]\tLoss: 0.311864\n",
            "Train Epoch: 1 [46000/60000 (77%)]\tLoss: 0.380919\n",
            "Train Epoch: 1 [46500/60000 (78%)]\tLoss: 0.156883\n",
            "Train Epoch: 1 [47000/60000 (78%)]\tLoss: 0.238712\n",
            "Train Epoch: 1 [47500/60000 (79%)]\tLoss: 0.255665\n",
            "Train Epoch: 1 [48000/60000 (80%)]\tLoss: 0.117729\n",
            "Train Epoch: 1 [48500/60000 (81%)]\tLoss: 0.151559\n",
            "Train Epoch: 1 [49000/60000 (82%)]\tLoss: 0.164071\n",
            "Train Epoch: 1 [49500/60000 (82%)]\tLoss: 0.200702\n",
            "Train Epoch: 1 [50000/60000 (83%)]\tLoss: 0.227751\n",
            "Train Epoch: 1 [50500/60000 (84%)]\tLoss: 0.119041\n",
            "Train Epoch: 1 [51000/60000 (85%)]\tLoss: 0.209530\n",
            "Train Epoch: 1 [51500/60000 (86%)]\tLoss: 0.158199\n",
            "Train Epoch: 1 [52000/60000 (87%)]\tLoss: 0.083901\n",
            "Train Epoch: 1 [52500/60000 (88%)]\tLoss: 0.181049\n",
            "Train Epoch: 1 [53000/60000 (88%)]\tLoss: 0.209815\n",
            "Train Epoch: 1 [53500/60000 (89%)]\tLoss: 0.065894\n",
            "Train Epoch: 1 [54000/60000 (90%)]\tLoss: 0.292722\n",
            "Train Epoch: 1 [54500/60000 (91%)]\tLoss: 0.086332\n",
            "Train Epoch: 1 [55000/60000 (92%)]\tLoss: 0.181174\n",
            "Train Epoch: 1 [55500/60000 (92%)]\tLoss: 0.243803\n",
            "Train Epoch: 1 [56000/60000 (93%)]\tLoss: 0.118417\n",
            "Train Epoch: 1 [56500/60000 (94%)]\tLoss: 0.077469\n",
            "Train Epoch: 1 [57000/60000 (95%)]\tLoss: 0.152924\n",
            "Train Epoch: 1 [57500/60000 (96%)]\tLoss: 0.312839\n",
            "Train Epoch: 1 [58000/60000 (97%)]\tLoss: 0.166770\n",
            "Train Epoch: 1 [58500/60000 (98%)]\tLoss: 0.144062\n",
            "Train Epoch: 1 [59000/60000 (98%)]\tLoss: 0.457551\n",
            "Train Epoch: 1 [59500/60000 (99%)]\tLoss: 0.140436\n",
            "\n",
            "Test set: Avg. loss: 0.1501, Accuracy: 9538/10000 (95%)\n",
            "\n",
            "Train Epoch: 2 [0/60000 (0%)]\tLoss: 0.246413\n",
            "Train Epoch: 2 [500/60000 (1%)]\tLoss: 0.091517\n",
            "Train Epoch: 2 [1000/60000 (2%)]\tLoss: 0.088392\n",
            "Train Epoch: 2 [1500/60000 (2%)]\tLoss: 0.085602\n",
            "Train Epoch: 2 [2000/60000 (3%)]\tLoss: 0.210615\n",
            "Train Epoch: 2 [2500/60000 (4%)]\tLoss: 0.175042\n",
            "Train Epoch: 2 [3000/60000 (5%)]\tLoss: 0.062895\n",
            "Train Epoch: 2 [3500/60000 (6%)]\tLoss: 0.299228\n",
            "Train Epoch: 2 [4000/60000 (7%)]\tLoss: 0.107620\n",
            "Train Epoch: 2 [4500/60000 (8%)]\tLoss: 0.086011\n",
            "Train Epoch: 2 [5000/60000 (8%)]\tLoss: 0.199494\n",
            "Train Epoch: 2 [5500/60000 (9%)]\tLoss: 0.351181\n",
            "Train Epoch: 2 [6000/60000 (10%)]\tLoss: 0.216477\n",
            "Train Epoch: 2 [6500/60000 (11%)]\tLoss: 0.385975\n",
            "Train Epoch: 2 [7000/60000 (12%)]\tLoss: 0.251417\n",
            "Train Epoch: 2 [7500/60000 (12%)]\tLoss: 0.190803\n",
            "Train Epoch: 2 [8000/60000 (13%)]\tLoss: 0.165985\n",
            "Train Epoch: 2 [8500/60000 (14%)]\tLoss: 0.167239\n",
            "Train Epoch: 2 [9000/60000 (15%)]\tLoss: 0.115111\n",
            "Train Epoch: 2 [9500/60000 (16%)]\tLoss: 0.133170\n",
            "Train Epoch: 2 [10000/60000 (17%)]\tLoss: 0.316691\n",
            "Train Epoch: 2 [10500/60000 (18%)]\tLoss: 0.072222\n",
            "Train Epoch: 2 [11000/60000 (18%)]\tLoss: 0.284133\n",
            "Train Epoch: 2 [11500/60000 (19%)]\tLoss: 0.168169\n",
            "Train Epoch: 2 [12000/60000 (20%)]\tLoss: 0.048163\n",
            "Train Epoch: 2 [12500/60000 (21%)]\tLoss: 0.063736\n",
            "Train Epoch: 2 [13000/60000 (22%)]\tLoss: 0.081180\n",
            "Train Epoch: 2 [13500/60000 (22%)]\tLoss: 0.201867\n",
            "Train Epoch: 2 [14000/60000 (23%)]\tLoss: 0.118579\n",
            "Train Epoch: 2 [14500/60000 (24%)]\tLoss: 0.160812\n",
            "Train Epoch: 2 [15000/60000 (25%)]\tLoss: 0.122612\n",
            "Train Epoch: 2 [15500/60000 (26%)]\tLoss: 0.282611\n",
            "Train Epoch: 2 [16000/60000 (27%)]\tLoss: 0.109093\n",
            "Train Epoch: 2 [16500/60000 (28%)]\tLoss: 0.191945\n",
            "Train Epoch: 2 [17000/60000 (28%)]\tLoss: 0.106480\n",
            "Train Epoch: 2 [17500/60000 (29%)]\tLoss: 0.230538\n",
            "Train Epoch: 2 [18000/60000 (30%)]\tLoss: 0.289543\n",
            "Train Epoch: 2 [18500/60000 (31%)]\tLoss: 0.249564\n",
            "Train Epoch: 2 [19000/60000 (32%)]\tLoss: 0.036746\n",
            "Train Epoch: 2 [19500/60000 (32%)]\tLoss: 0.330522\n",
            "Train Epoch: 2 [20000/60000 (33%)]\tLoss: 0.168152\n",
            "Train Epoch: 2 [20500/60000 (34%)]\tLoss: 0.202013\n",
            "Train Epoch: 2 [21000/60000 (35%)]\tLoss: 0.091633\n",
            "Train Epoch: 2 [21500/60000 (36%)]\tLoss: 0.059400\n",
            "Train Epoch: 2 [22000/60000 (37%)]\tLoss: 0.128610\n",
            "Train Epoch: 2 [22500/60000 (38%)]\tLoss: 0.174987\n",
            "Train Epoch: 2 [23000/60000 (38%)]\tLoss: 0.133427\n",
            "Train Epoch: 2 [23500/60000 (39%)]\tLoss: 0.050437\n",
            "Train Epoch: 2 [24000/60000 (40%)]\tLoss: 0.149502\n",
            "Train Epoch: 2 [24500/60000 (41%)]\tLoss: 0.023285\n",
            "Train Epoch: 2 [25000/60000 (42%)]\tLoss: 0.091976\n",
            "Train Epoch: 2 [25500/60000 (42%)]\tLoss: 0.058736\n",
            "Train Epoch: 2 [26000/60000 (43%)]\tLoss: 0.216361\n",
            "Train Epoch: 2 [26500/60000 (44%)]\tLoss: 0.212238\n",
            "Train Epoch: 2 [27000/60000 (45%)]\tLoss: 0.111150\n",
            "Train Epoch: 2 [27500/60000 (46%)]\tLoss: 0.062748\n",
            "Train Epoch: 2 [28000/60000 (47%)]\tLoss: 0.099851\n",
            "Train Epoch: 2 [28500/60000 (48%)]\tLoss: 0.099173\n",
            "Train Epoch: 2 [29000/60000 (48%)]\tLoss: 0.049508\n",
            "Train Epoch: 2 [29500/60000 (49%)]\tLoss: 0.100297\n",
            "Train Epoch: 2 [30000/60000 (50%)]\tLoss: 0.038378\n",
            "Train Epoch: 2 [30500/60000 (51%)]\tLoss: 0.058134\n",
            "Train Epoch: 2 [31000/60000 (52%)]\tLoss: 0.110271\n",
            "Train Epoch: 2 [31500/60000 (52%)]\tLoss: 0.019848\n",
            "Train Epoch: 2 [32000/60000 (53%)]\tLoss: 0.097952\n",
            "Train Epoch: 2 [32500/60000 (54%)]\tLoss: 0.061861\n",
            "Train Epoch: 2 [33000/60000 (55%)]\tLoss: 0.064012\n",
            "Train Epoch: 2 [33500/60000 (56%)]\tLoss: 0.172241\n",
            "Train Epoch: 2 [34000/60000 (57%)]\tLoss: 0.080966\n",
            "Train Epoch: 2 [34500/60000 (58%)]\tLoss: 0.099593\n",
            "Train Epoch: 2 [35000/60000 (58%)]\tLoss: 0.059819\n",
            "Train Epoch: 2 [35500/60000 (59%)]\tLoss: 0.189513\n",
            "Train Epoch: 2 [36000/60000 (60%)]\tLoss: 0.062751\n",
            "Train Epoch: 2 [36500/60000 (61%)]\tLoss: 0.059593\n",
            "Train Epoch: 2 [37000/60000 (62%)]\tLoss: 0.030402\n",
            "Train Epoch: 2 [37500/60000 (62%)]\tLoss: 0.096549\n",
            "Train Epoch: 2 [38000/60000 (63%)]\tLoss: 0.207332\n",
            "Train Epoch: 2 [38500/60000 (64%)]\tLoss: 0.078957\n",
            "Train Epoch: 2 [39000/60000 (65%)]\tLoss: 0.108477\n",
            "Train Epoch: 2 [39500/60000 (66%)]\tLoss: 0.181537\n",
            "Train Epoch: 2 [40000/60000 (67%)]\tLoss: 0.147183\n",
            "Train Epoch: 2 [40500/60000 (68%)]\tLoss: 0.030245\n",
            "Train Epoch: 2 [41000/60000 (68%)]\tLoss: 0.077932\n",
            "Train Epoch: 2 [41500/60000 (69%)]\tLoss: 0.063932\n",
            "Train Epoch: 2 [42000/60000 (70%)]\tLoss: 0.028228\n",
            "Train Epoch: 2 [42500/60000 (71%)]\tLoss: 0.128947\n",
            "Train Epoch: 2 [43000/60000 (72%)]\tLoss: 0.155596\n",
            "Train Epoch: 2 [43500/60000 (72%)]\tLoss: 0.271087\n",
            "Train Epoch: 2 [44000/60000 (73%)]\tLoss: 0.020607\n",
            "Train Epoch: 2 [44500/60000 (74%)]\tLoss: 0.231834\n",
            "Train Epoch: 2 [45000/60000 (75%)]\tLoss: 0.033342\n",
            "Train Epoch: 2 [45500/60000 (76%)]\tLoss: 0.277934\n",
            "Train Epoch: 2 [46000/60000 (77%)]\tLoss: 0.190301\n",
            "Train Epoch: 2 [46500/60000 (78%)]\tLoss: 0.123429\n",
            "Train Epoch: 2 [47000/60000 (78%)]\tLoss: 0.083724\n",
            "Train Epoch: 2 [47500/60000 (79%)]\tLoss: 0.122008\n",
            "Train Epoch: 2 [48000/60000 (80%)]\tLoss: 0.017760\n",
            "Train Epoch: 2 [48500/60000 (81%)]\tLoss: 0.124836\n",
            "Train Epoch: 2 [49000/60000 (82%)]\tLoss: 0.114420\n",
            "Train Epoch: 2 [49500/60000 (82%)]\tLoss: 0.070500\n",
            "Train Epoch: 2 [50000/60000 (83%)]\tLoss: 0.101483\n",
            "Train Epoch: 2 [50500/60000 (84%)]\tLoss: 0.312595\n",
            "Train Epoch: 2 [51000/60000 (85%)]\tLoss: 0.192896\n",
            "Train Epoch: 2 [51500/60000 (86%)]\tLoss: 0.087168\n",
            "Train Epoch: 2 [52000/60000 (87%)]\tLoss: 0.123086\n",
            "Train Epoch: 2 [52500/60000 (88%)]\tLoss: 0.015699\n",
            "Train Epoch: 2 [53000/60000 (88%)]\tLoss: 0.103392\n",
            "Train Epoch: 2 [53500/60000 (89%)]\tLoss: 0.115662\n",
            "Train Epoch: 2 [54000/60000 (90%)]\tLoss: 0.267482\n",
            "Train Epoch: 2 [54500/60000 (91%)]\tLoss: 0.030171\n",
            "Train Epoch: 2 [55000/60000 (92%)]\tLoss: 0.180385\n",
            "Train Epoch: 2 [55500/60000 (92%)]\tLoss: 0.091046\n",
            "Train Epoch: 2 [56000/60000 (93%)]\tLoss: 0.070686\n",
            "Train Epoch: 2 [56500/60000 (94%)]\tLoss: 0.043069\n",
            "Train Epoch: 2 [57000/60000 (95%)]\tLoss: 0.121610\n",
            "Train Epoch: 2 [57500/60000 (96%)]\tLoss: 0.157287\n",
            "Train Epoch: 2 [58000/60000 (97%)]\tLoss: 0.166013\n",
            "Train Epoch: 2 [58500/60000 (98%)]\tLoss: 0.120500\n",
            "Train Epoch: 2 [59000/60000 (98%)]\tLoss: 0.055639\n",
            "Train Epoch: 2 [59500/60000 (99%)]\tLoss: 0.271855\n",
            "\n",
            "Test set: Avg. loss: 0.0798, Accuracy: 9741/10000 (97%)\n",
            "\n",
            "Train Epoch: 3 [0/60000 (0%)]\tLoss: 0.105848\n",
            "Train Epoch: 3 [500/60000 (1%)]\tLoss: 0.047906\n",
            "Train Epoch: 3 [1000/60000 (2%)]\tLoss: 0.095286\n",
            "Train Epoch: 3 [1500/60000 (2%)]\tLoss: 0.059538\n",
            "Train Epoch: 3 [2000/60000 (3%)]\tLoss: 0.095918\n",
            "Train Epoch: 3 [2500/60000 (4%)]\tLoss: 0.073767\n",
            "Train Epoch: 3 [3000/60000 (5%)]\tLoss: 0.061607\n",
            "Train Epoch: 3 [3500/60000 (6%)]\tLoss: 0.146366\n",
            "Train Epoch: 3 [4000/60000 (7%)]\tLoss: 0.265345\n",
            "Train Epoch: 3 [4500/60000 (8%)]\tLoss: 0.134168\n",
            "Train Epoch: 3 [5000/60000 (8%)]\tLoss: 0.215396\n",
            "Train Epoch: 3 [5500/60000 (9%)]\tLoss: 0.105316\n",
            "Train Epoch: 3 [6000/60000 (10%)]\tLoss: 0.071034\n",
            "Train Epoch: 3 [6500/60000 (11%)]\tLoss: 0.129322\n",
            "Train Epoch: 3 [7000/60000 (12%)]\tLoss: 0.025818\n",
            "Train Epoch: 3 [7500/60000 (12%)]\tLoss: 0.040031\n",
            "Train Epoch: 3 [8000/60000 (13%)]\tLoss: 0.054150\n",
            "Train Epoch: 3 [8500/60000 (14%)]\tLoss: 0.029019\n",
            "Train Epoch: 3 [9000/60000 (15%)]\tLoss: 0.039139\n",
            "Train Epoch: 3 [9500/60000 (16%)]\tLoss: 0.076760\n",
            "Train Epoch: 3 [10000/60000 (17%)]\tLoss: 0.039118\n",
            "Train Epoch: 3 [10500/60000 (18%)]\tLoss: 0.055740\n",
            "Train Epoch: 3 [11000/60000 (18%)]\tLoss: 0.063513\n",
            "Train Epoch: 3 [11500/60000 (19%)]\tLoss: 0.019233\n",
            "Train Epoch: 3 [12000/60000 (20%)]\tLoss: 0.130171\n",
            "Train Epoch: 3 [12500/60000 (21%)]\tLoss: 0.147485\n",
            "Train Epoch: 3 [13000/60000 (22%)]\tLoss: 0.043083\n",
            "Train Epoch: 3 [13500/60000 (22%)]\tLoss: 0.055901\n",
            "Train Epoch: 3 [14000/60000 (23%)]\tLoss: 0.194929\n",
            "Train Epoch: 3 [14500/60000 (24%)]\tLoss: 0.049798\n",
            "Train Epoch: 3 [15000/60000 (25%)]\tLoss: 0.129209\n",
            "Train Epoch: 3 [15500/60000 (26%)]\tLoss: 0.064397\n",
            "Train Epoch: 3 [16000/60000 (27%)]\tLoss: 0.042817\n",
            "Train Epoch: 3 [16500/60000 (28%)]\tLoss: 0.167564\n",
            "Train Epoch: 3 [17000/60000 (28%)]\tLoss: 0.037839\n",
            "Train Epoch: 3 [17500/60000 (29%)]\tLoss: 0.072747\n",
            "Train Epoch: 3 [18000/60000 (30%)]\tLoss: 0.018032\n",
            "Train Epoch: 3 [18500/60000 (31%)]\tLoss: 0.112888\n",
            "Train Epoch: 3 [19000/60000 (32%)]\tLoss: 0.113041\n",
            "Train Epoch: 3 [19500/60000 (32%)]\tLoss: 0.069028\n",
            "Train Epoch: 3 [20000/60000 (33%)]\tLoss: 0.023223\n",
            "Train Epoch: 3 [20500/60000 (34%)]\tLoss: 0.111873\n",
            "Train Epoch: 3 [21000/60000 (35%)]\tLoss: 0.061552\n",
            "Train Epoch: 3 [21500/60000 (36%)]\tLoss: 0.111287\n",
            "Train Epoch: 3 [22000/60000 (37%)]\tLoss: 0.049301\n",
            "Train Epoch: 3 [22500/60000 (38%)]\tLoss: 0.036986\n",
            "Train Epoch: 3 [23000/60000 (38%)]\tLoss: 0.082541\n",
            "Train Epoch: 3 [23500/60000 (39%)]\tLoss: 0.115451\n",
            "Train Epoch: 3 [24000/60000 (40%)]\tLoss: 0.062666\n",
            "Train Epoch: 3 [24500/60000 (41%)]\tLoss: 0.043187\n",
            "Train Epoch: 3 [25000/60000 (42%)]\tLoss: 0.050222\n",
            "Train Epoch: 3 [25500/60000 (42%)]\tLoss: 0.018537\n",
            "Train Epoch: 3 [26000/60000 (43%)]\tLoss: 0.061796\n",
            "Train Epoch: 3 [26500/60000 (44%)]\tLoss: 0.125091\n",
            "Train Epoch: 3 [27000/60000 (45%)]\tLoss: 0.235036\n",
            "Train Epoch: 3 [27500/60000 (46%)]\tLoss: 0.032521\n",
            "Train Epoch: 3 [28000/60000 (47%)]\tLoss: 0.066549\n",
            "Train Epoch: 3 [28500/60000 (48%)]\tLoss: 0.025030\n",
            "Train Epoch: 3 [29000/60000 (48%)]\tLoss: 0.129171\n",
            "Train Epoch: 3 [29500/60000 (49%)]\tLoss: 0.051812\n",
            "Train Epoch: 3 [30000/60000 (50%)]\tLoss: 0.031037\n",
            "Train Epoch: 3 [30500/60000 (51%)]\tLoss: 0.051406\n",
            "Train Epoch: 3 [31000/60000 (52%)]\tLoss: 0.213166\n",
            "Train Epoch: 3 [31500/60000 (52%)]\tLoss: 0.014144\n",
            "Train Epoch: 3 [32000/60000 (53%)]\tLoss: 0.065751\n",
            "Train Epoch: 3 [32500/60000 (54%)]\tLoss: 0.028411\n",
            "Train Epoch: 3 [33000/60000 (55%)]\tLoss: 0.040134\n",
            "Train Epoch: 3 [33500/60000 (56%)]\tLoss: 0.052249\n",
            "Train Epoch: 3 [34000/60000 (57%)]\tLoss: 0.119871\n",
            "Train Epoch: 3 [34500/60000 (58%)]\tLoss: 0.028297\n",
            "Train Epoch: 3 [35000/60000 (58%)]\tLoss: 0.067475\n",
            "Train Epoch: 3 [35500/60000 (59%)]\tLoss: 0.071438\n",
            "Train Epoch: 3 [36000/60000 (60%)]\tLoss: 0.067806\n",
            "Train Epoch: 3 [36500/60000 (61%)]\tLoss: 0.238911\n",
            "Train Epoch: 3 [37000/60000 (62%)]\tLoss: 0.073213\n",
            "Train Epoch: 3 [37500/60000 (62%)]\tLoss: 0.082037\n",
            "Train Epoch: 3 [38000/60000 (63%)]\tLoss: 0.043647\n",
            "Train Epoch: 3 [38500/60000 (64%)]\tLoss: 0.170532\n",
            "Train Epoch: 3 [39000/60000 (65%)]\tLoss: 0.059630\n",
            "Train Epoch: 3 [39500/60000 (66%)]\tLoss: 0.076274\n",
            "Train Epoch: 3 [40000/60000 (67%)]\tLoss: 0.022717\n",
            "Train Epoch: 3 [40500/60000 (68%)]\tLoss: 0.080094\n",
            "Train Epoch: 3 [41000/60000 (68%)]\tLoss: 0.105089\n",
            "Train Epoch: 3 [41500/60000 (69%)]\tLoss: 0.149936\n",
            "Train Epoch: 3 [42000/60000 (70%)]\tLoss: 0.218332\n",
            "Train Epoch: 3 [42500/60000 (71%)]\tLoss: 0.096622\n",
            "Train Epoch: 3 [43000/60000 (72%)]\tLoss: 0.065433\n",
            "Train Epoch: 3 [43500/60000 (72%)]\tLoss: 0.115312\n",
            "Train Epoch: 3 [44000/60000 (73%)]\tLoss: 0.079553\n",
            "Train Epoch: 3 [44500/60000 (74%)]\tLoss: 0.036401\n",
            "Train Epoch: 3 [45000/60000 (75%)]\tLoss: 0.065325\n",
            "Train Epoch: 3 [45500/60000 (76%)]\tLoss: 0.049125\n",
            "Train Epoch: 3 [46000/60000 (77%)]\tLoss: 0.026133\n",
            "Train Epoch: 3 [46500/60000 (78%)]\tLoss: 0.055346\n",
            "Train Epoch: 3 [47000/60000 (78%)]\tLoss: 0.031879\n",
            "Train Epoch: 3 [47500/60000 (79%)]\tLoss: 0.109555\n",
            "Train Epoch: 3 [48000/60000 (80%)]\tLoss: 0.079627\n",
            "Train Epoch: 3 [48500/60000 (81%)]\tLoss: 0.040460\n",
            "Train Epoch: 3 [49000/60000 (82%)]\tLoss: 0.100956\n",
            "Train Epoch: 3 [49500/60000 (82%)]\tLoss: 0.004188\n",
            "Train Epoch: 3 [50000/60000 (83%)]\tLoss: 0.111557\n",
            "Train Epoch: 3 [50500/60000 (84%)]\tLoss: 0.066467\n",
            "Train Epoch: 3 [51000/60000 (85%)]\tLoss: 0.115405\n",
            "Train Epoch: 3 [51500/60000 (86%)]\tLoss: 0.048337\n",
            "Train Epoch: 3 [52000/60000 (87%)]\tLoss: 0.056011\n",
            "Train Epoch: 3 [52500/60000 (88%)]\tLoss: 0.109041\n",
            "Train Epoch: 3 [53000/60000 (88%)]\tLoss: 0.025545\n",
            "Train Epoch: 3 [53500/60000 (89%)]\tLoss: 0.116607\n",
            "Train Epoch: 3 [54000/60000 (90%)]\tLoss: 0.117389\n",
            "Train Epoch: 3 [54500/60000 (91%)]\tLoss: 0.065297\n",
            "Train Epoch: 3 [55000/60000 (92%)]\tLoss: 0.140254\n",
            "Train Epoch: 3 [55500/60000 (92%)]\tLoss: 0.023694\n",
            "Train Epoch: 3 [56000/60000 (93%)]\tLoss: 0.105676\n",
            "Train Epoch: 3 [56500/60000 (94%)]\tLoss: 0.040822\n",
            "Train Epoch: 3 [57000/60000 (95%)]\tLoss: 0.075732\n",
            "Train Epoch: 3 [57500/60000 (96%)]\tLoss: 0.203965\n",
            "Train Epoch: 3 [58000/60000 (97%)]\tLoss: 0.201461\n",
            "Train Epoch: 3 [58500/60000 (98%)]\tLoss: 0.017614\n",
            "Train Epoch: 3 [59000/60000 (98%)]\tLoss: 0.105707\n",
            "Train Epoch: 3 [59500/60000 (99%)]\tLoss: 0.154673\n",
            "\n",
            "Test set: Avg. loss: 0.0562, Accuracy: 9812/10000 (98%)\n",
            "\n"
          ]
        }
      ]
    },
    {
      "cell_type": "markdown",
      "source": [
        "# Evaluate the model \n",
        "\n",
        "And there you have it. After merely 3 epochs of training, we have accomplished an impressive 97% accuracy on the test set. It's worth noting that at the beginning, when the parameters were randomly initialized, we achieved approximately 10% accuracy on the test set, which is exactly what we anticipated before initiating the training process.\n",
        "\n",
        "\n",
        "\n",
        "\n"
      ],
      "metadata": {
        "id": "4LezkKzz1rEe"
      }
    },
    {
      "cell_type": "code",
      "source": [
        "import matplotlib.pyplot as plt\n",
        "\n",
        "fig = plt.figure()\n",
        "plt.plot(train_counter, train_losses, color='blue')\n",
        "plt.scatter([0]+test_counter, test_losses, color='red')\n",
        "plt.legend(['Train Loss', 'Test Loss'], loc='upper right')\n",
        "plt.xlabel('number of training examples seen')\n",
        "plt.ylabel('negative log likelihood loss')\n"
      ],
      "metadata": {
        "colab": {
          "base_uri": "https://localhost:8080/",
          "height": 466
        },
        "id": "TnZRKJpR1_ee",
        "outputId": "63137f59-7a8b-4bc1-b3f7-d8da425a1076"
      },
      "execution_count": null,
      "outputs": [
        {
          "output_type": "execute_result",
          "data": {
            "text/plain": [
              "Text(0, 0.5, 'negative log likelihood loss')"
            ]
          },
          "metadata": {},
          "execution_count": 36
        },
        {
          "output_type": "display_data",
          "data": {
            "text/plain": [
              "<Figure size 640x480 with 1 Axes>"
            ],
            "image/png": "[encoded data removed]"
          },
          "metadata": {}
        }
      ]
    },
    {
      "cell_type": "code",
      "source": [],
      "metadata": {
        "colab": {
          "base_uri": "https://localhost:8080/"
        },
        "id": "U3aLZ5KP0zGe",
        "outputId": "7ed21f34-ee4c-4034-97f4-b8b2c450a673"
      },
      "execution_count": null,
      "outputs": [
        {
          "output_type": "execute_result",
          "data": {
            "text/plain": [
              "5"
            ]
          },
          "metadata": {},
          "execution_count": 32
        }
      ]
    },
    {
      "cell_type": "code",
      "source": [],
      "metadata": {
        "id": "A_buOSi233Ss"
      },
      "execution_count": null,
      "outputs": []
    }
  ]
}